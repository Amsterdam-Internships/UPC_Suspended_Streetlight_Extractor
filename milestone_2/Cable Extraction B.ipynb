{
 "cells": [
  {
   "cell_type": "code",
   "execution_count": 17,
   "metadata": {},
   "outputs": [],
   "source": [
    "# Add project src to path.\n",
    "import set_path\n",
    "\n",
    "# Import modules.\n",
    "import numpy as np\n",
    "import time\n",
    "import logging\n",
    "from tqdm import tqdm\n",
    "\n",
    "# Visulatisation\n",
    "%matplotlib widget\n",
    "import matplotlib.pyplot as plt\n",
    "\n",
    "import set_path\n",
    "import src.utils.ahn_utils as ahn_utils\n",
    "import src.utils.las_utils as las_utils\n",
    "import src.utils.plot_utils as plot_utils\n",
    "import src.utils.clip_utils as clip_utils\n",
    "import src.utils.math_utils as math_utils\n",
    "\n",
    "from pyntcloud import PyntCloud\n",
    "import pandas as pd\n",
    "from skimage import feature\n",
    "from scipy import ndimage\n",
    "import cv2 as cv\n",
    "import pyransac3d as pyrsc\n",
    "\n",
    "import open3d as o3d\n",
    "from shapely.geometry import LineString\n",
    "import shapely \n",
    "from scipy.optimize import curve_fit\n",
    "import scipy.spatial\n",
    "\n",
    "from multiprocessing import Pool\n",
    "import pca\n",
    "import RANSAC\n",
    "from sklearn.cluster import DBSCAN\n",
    "\n",
    "from skimage.transform import probabilistic_hough_line, hough_line, hough_line_peaks"
   ]
  },
  {
   "cell_type": "markdown",
   "metadata": {},
   "source": [
    "#### Load Data"
   ]
  },
  {
   "cell_type": "code",
   "execution_count": 20,
   "metadata": {},
   "outputs": [],
   "source": [
    "# Load data.\n",
    "tilecode = '2387_9700'\n",
    "\n",
    "# Labelled LAS file (see Notebook 0).\n",
    "las_file = '../datasets/Valeriusplein/pointcloud/processed_' + tilecode + '.laz'\n",
    "reduced_las_file = '../datasets/Valeriusplein/pointcloud/reduced_' + tilecode + '.laz'\n",
    "\n",
    "# AHN data folder.\n",
    "ahn_data_folder = '../datasets/Valeriusplein/ahn/'\n",
    "# File with BGT building polygons.\n",
    "bgt_building_file = '../datasets/Valeriusplein/bgt/bgt_buildings.csv'\n",
    "# File with BGT road polygons.\n",
    "bgt_road_file = '../datasets/Valeriusplein/bgt/bgt_roads.csv'\n",
    "# File with <x,y> coordinates of pole-like objects.\n",
    "bgt_pole_file = '../datasets/Valeriusplein/bgt/custom_poles.csv'\n",
    "# File with <x,y> coordinates of street furniture objects.\n",
    "bgt_street_furniture_file = '../datasets/Valeriusplein/bgt/bgt_street_furniture.csv'\n",
    "\n",
    "# AHNReader for elevation data.\n",
    "ahn_reader = ahn_utils.NPZReader(ahn_data_folder)"
   ]
  },
  {
   "cell_type": "code",
   "execution_count": 21,
   "metadata": {},
   "outputs": [
    {
     "data": {
      "application/vnd.jupyter.widget-view+json": {
       "model_id": "0a9c1c582dfc4f31af5f7041cccaa3c5",
       "version_major": 2,
       "version_minor": 0
      },
      "text/plain": [
       "Canvas(toolbar=Toolbar(toolitems=[('Home', 'Reset original view', 'home', 'home'), ('Back', 'Back to previous …"
      ]
     },
     "metadata": {},
     "output_type": "display_data"
    }
   ],
   "source": [
    "plot_utils.plot_bgt(tilecode, bgt_building_file, bgt_road_file, bgt_pole_file, bgt_street_furniture_file, padding=5)"
   ]
  },
  {
   "cell_type": "markdown",
   "metadata": {},
   "source": [
    "## Cable Extraction: Feature-based"
   ]
  },
  {
   "cell_type": "code",
   "execution_count": 22,
   "metadata": {},
   "outputs": [],
   "source": [
    "# true pointcloud\n",
    "labeled_pointcloud = las_utils.read_las(las_file)\n",
    "true_labels = labeled_pointcloud.label\n",
    "\n",
    "# reduced pointcloud\n",
    "pointcloud = las_utils.read_las(reduced_las_file)\n",
    "points = np.vstack((pointcloud.x, pointcloud.y, pointcloud.z)).T\n",
    "labels = pointcloud.label\n",
    "\n",
    "# mask for unlabelled\n",
    "mask = np.where(labels == 0)[0]\n",
    "mask_unlabelled = labels == 0\n",
    "\n",
    "# Remove \"noise filter\"\n",
    "mask_noise = labels == 99\n",
    "mask = mask_noise | mask_unlabelled"
   ]
  },
  {
   "cell_type": "code",
   "execution_count": 23,
   "metadata": {},
   "outputs": [],
   "source": [
    "true_cable_mask = (true_labels == 12) | (true_labels == 13) | (true_labels == 15)"
   ]
  },
  {
   "cell_type": "markdown",
   "metadata": {},
   "source": [
    "#### Pipeline"
   ]
  },
  {
   "cell_type": "code",
   "execution_count": 24,
   "metadata": {},
   "outputs": [
    {
     "name": "stderr",
     "output_type": "stream",
     "text": [
      "/Users/user/Documents/CTO-Internship/Urban_PointCloud_Processing/.point_cloud/lib/python3.9/site-packages/pyransac3d/line.py:47: RuntimeWarning: invalid value encountered in true_divide\n",
      "  vecA_norm = vecA / np.linalg.norm(vecA)\n",
      "/var/folders/1p/z114bvjj7r59fvq3rbdcg3c40000gn/T/ipykernel_4793/2858840857.py:3: RuntimeWarning: invalid value encountered in true_divide\n",
      "  return v1 / np.linalg.norm(v1)\n"
     ]
    }
   ],
   "source": [
    "# 1. Candidata cable point selection\n",
    "cable_mask = candidate_cable_points(points, mask, 'radius')\n",
    "\n",
    "# 2. Cluster candidate cable points\n",
    "cable_mask,  clustering_labels_ = cluster_cable_points(points[mask], cable_mask)\n",
    "\n",
    "# 3. Grow cable clusters\n",
    "_, clustering_labels_ = grow_clusters(points[mask], clustering_labels_, section_length=3, grow_length=1, cable_with=0.1)\n",
    "\n",
    "# 4. Merge cable clusters\n",
    "clustering_labels_ = merge_clusters(points[mask], clustering_labels_)"
   ]
  },
  {
   "cell_type": "code",
   "execution_count": 25,
   "metadata": {},
   "outputs": [
    {
     "name": "stdout",
     "output_type": "stream",
     "text": [
      "ACC: 99.19%\n"
     ]
    }
   ],
   "source": [
    "score = mask_score(clustering_labels_ != 0, true_cable_mask[mask])\n",
    "print(f'ACC: {round(score,2)}%')"
   ]
  },
  {
   "cell_type": "code",
   "execution_count": 26,
   "metadata": {},
   "outputs": [
    {
     "data": {
      "application/vnd.jupyter.widget-view+json": {
       "model_id": "fbd6e4802ea9429c8c9eeff5733fc01c",
       "version_major": 2,
       "version_minor": 0
      },
      "text/plain": [
       "Canvas(toolbar=Toolbar(toolitems=[('Home', 'Reset original view', 'home', 'home'), ('Back', 'Back to previous …"
      ]
     },
     "metadata": {},
     "output_type": "display_data"
    }
   ],
   "source": [
    "score_plot(points, mask, clustering_labels_ != 0, true_cable_mask[mask])"
   ]
  },
  {
   "cell_type": "code",
   "execution_count": 64,
   "metadata": {},
   "outputs": [],
   "source": [
    "# score_plot(points, mask, clustering_labels_ != 0, true_cable_mask[mask])\n",
    "# plot_clusters(points[mask], clustering_labels_, (0,), False)"
   ]
  },
  {
   "cell_type": "code",
   "execution_count": 27,
   "metadata": {},
   "outputs": [],
   "source": [
    "cable_ids = np.where(mask)[0][np.where(clustering_labels_ != 0)[0]]\n",
    "labels[cable_ids] = 11\n",
    "out_file = '../datasets/Valeriusplein/pointcloud/M2_' + tilecode + '.laz'\n",
    "las_utils.label_and_save_las(pointcloud, labels, out_file)"
   ]
  },
  {
   "cell_type": "markdown",
   "metadata": {},
   "source": [
    "#### Step 1: Neighborhood Selection\n",
    "Define the neighborhood of a point. Points will be used to calculate point features. (method: voxelization / distance-based / k-NN )"
   ]
  },
  {
   "cell_type": "code",
   "execution_count": 2,
   "metadata": {},
   "outputs": [],
   "source": [
    "# Voxelization\n",
    "def voxelize(points, mask, voxel_size, return_voxel_points=False, logger=False):\n",
    "    \"\"\" Returns the voxelization of a Point Cloud.\"\"\"\n",
    "\n",
    "    # Voxelize point cloud\n",
    "    cloud = PyntCloud(pd.DataFrame(points[mask,:], columns=['x','y','z']))\n",
    "    voxelgrid_id = cloud.add_structure(\"voxelgrid\", size_x=voxel_size, size_y=voxel_size, size_z=voxel_size, regular_bounding_box=False)\n",
    "    voxel_grid = cloud.structures[voxelgrid_id]\n",
    "    if logger:\n",
    "        print('Voxels per axis:',voxel_grid.x_y_z)\n",
    "        print('Voxel size:',voxel_grid.shape)\n",
    "\n",
    "    # Group points per voxel \n",
    "    if return_voxel_points:\n",
    "        pv_table = np.vstack([voxel_grid.voxel_n, np.arange(0,voxel_grid.voxel_n.shape[0])]).T\n",
    "        pv_table = pv_table[pv_table[:, 0].argsort()]\n",
    "        voxel_idx, voxel_idx_index = np.unique(pv_table[:, 0], return_index=True)\n",
    "        voxel_points = np.split(pv_table[:, 1], voxel_idx_index[1:])\n",
    "\n",
    "        return voxel_grid, voxel_points, voxel_idx\n",
    "    \n",
    "    return voxel_grid\n",
    "\n",
    "def multi_proc_eig(covariances):\n",
    "    \"\"\" Returns the eigendecomposition of `covariances`\"\"\"\n",
    "    # Alternative: tqdm process_map(np.linalg.eig, covariances)\n",
    "    with Pool() as pool:\n",
    "        return pool.map(pca.eig, covariances)\n",
    "\n",
    "def neighborhood_pca(points, mask, method='radius', knn=30, radius=1, voxel_size=1):\n",
    "    \"\"\"\n",
    "    Returns the eigen values and vectors of points in a Point Cloud.\n",
    "    \n",
    "    Parameters\n",
    "    ----------\n",
    "    `points` : array of shape `(n_points, 3)`\n",
    "        The point cloud <x, y, z>.\n",
    "    `mask` : array of shape `(n_points,)` with `dtype=bool`\n",
    "        Pre-mask used to label only a subset of the points.\n",
    "    `method` : str\n",
    "        The method to use to define a points neighborhood.\n",
    "    `knn` : int (default= 30)\n",
    "        k Nearest Neighbors parameter.\n",
    "    `radius` : int (default= 1)\n",
    "        Radius parameter.\n",
    "    `voxel_size` : int (default= 1)\n",
    "        voxelization parameter.\n",
    "\n",
    "    Returns\n",
    "    -------\n",
    "    An array of shape (n_points, 2) indicating eigen values and vectors\n",
    "    \"\"\"\n",
    "\n",
    "    #TODO: pyntcloud --> eigenvalues sneller?\n",
    "\n",
    "    if method == 'knn':\n",
    "        pcd = o3d.geometry.PointCloud()\n",
    "        pcd.points = o3d.utility.Vector3dVector(points[mask])\n",
    "        pcd.estimate_covariances(search_param=o3d.geometry.KDTreeSearchParamKNN(knn=knn))\n",
    "        covariances = np.asarray(pcd.covariances)\n",
    "        eig_val_vec = multi_proc_eig(covariances)\n",
    "\n",
    "    elif method == 'radius':\n",
    "        pcd = o3d.geometry.PointCloud()\n",
    "        pcd.points = o3d.utility.Vector3dVector(points[mask])\n",
    "        pcd.estimate_covariances(search_param=o3d.geometry.KDTreeSearchParamRadius(radius=radius))\n",
    "        covariances = np.asarray(pcd.covariances)\n",
    "        eig_val_vec = multi_proc_eig(covariances)\n",
    "\n",
    "    elif method == 'voxel':\n",
    "        voxel_grid, voxel_point_idx, voxel_idx = voxelize(points, mask, voxel_size=voxel_size, return_voxel_points=True)\n",
    "        voxel_table = {k: v for v, k in enumerate(voxel_idx)}\n",
    "        covariances = [np.cov(points[mask][idx], rowvar=False) for idx in voxel_point_idx]\n",
    "        voxel_eig_val_vec = multi_proc_eig(covariances)\n",
    "        eig_val_vec = [voxel_eig_val_vec[voxel_table[voxel_id]] for voxel_id in voxel_grid.voxel_n]\n",
    "    \n",
    "    return eig_val_vec"
   ]
  },
  {
   "cell_type": "markdown",
   "metadata": {},
   "source": [
    "#### Step 2: Cadidate Cable Points\n",
    "Use PCA to calculate geometrical features of a point and assess linearity."
   ]
  },
  {
   "cell_type": "code",
   "execution_count": 3,
   "metadata": {},
   "outputs": [],
   "source": [
    "def candidate_cable_points(points, mask, method, eps_1=0.001, eps_2=0.1):\n",
    "\n",
    "    eig_val_vec = neighborhood_pca(points, mask, method)\n",
    "\n",
    "    assert len(eig_val_vec) == len(points[mask])\n",
    "\n",
    "    # TODO: \n",
    "    # + New linearty formula\n",
    "    # + Other geometric shapes (Planar & Volumetric)\n",
    "\n",
    "    candidate_mask = np.zeros(len(points[mask]), dtype=bool)\n",
    "    for i in range(len(eig_val_vec)):\n",
    "        eig_val = eig_val_vec[i][0]\n",
    "        if eig_val is not None:\n",
    "\n",
    "            # Sort eigenvalues λ1 > λ2 > λ3\n",
    "            idx = eig_val.argsort()[::-1]   \n",
    "            eig_val = eig_val[idx]\n",
    "\n",
    "            # Linearity Check\n",
    "            if (abs(eig_val[1]-eig_val[2]) < eps_1) and eig_val[0] > eig_val[1] + eps_2:\n",
    "                candidate_mask[i] = True\n",
    "\n",
    "    return candidate_mask"
   ]
  },
  {
   "cell_type": "markdown",
   "metadata": {},
   "source": [
    "##### Labelled cable PCA Analysis"
   ]
  },
  {
   "cell_type": "code",
   "execution_count": 20,
   "metadata": {},
   "outputs": [],
   "source": [
    "def pca_method_comp(eig_val_vec, true_labels, mask, plotting=False):\n",
    "    cable_idx = np.where(true_labels[mask]==11)[0]\n",
    "\n",
    "    results_cable = []\n",
    "    results_non_cable = []\n",
    "    for i in range(len(eig_val_vec)):\n",
    "        eig_val = eig_val_vec[i][0]\n",
    "        if eig_val is not None:\n",
    "            idx = eig_val.argsort()[::-1]   \n",
    "            eig_val = eig_val[idx]\n",
    "            if i in cable_idx:\n",
    "                results_cable.append([round(eig_val[0],4),round(abs(eig_val[0]-eig_val[1]),4),round(abs(eig_val[1]-eig_val[2]),4)])\n",
    "            else:\n",
    "                results_non_cable.append([round(eig_val[0],4),round(abs(eig_val[0]-eig_val[1]),4),round(abs(eig_val[1]-eig_val[2]),4)])\n",
    "        else:\n",
    "            if i in cable_idx:\n",
    "                results_cable.append([np.nan,np.nan,np.nan])\n",
    "            else:\n",
    "                results_non_cable.append([np.nan,np.nan,np.nan])\n",
    "\n",
    "    df_results_cable = pd.DataFrame(results_cable, columns=['λ1','λ1-λ2','λ2-λ3'])\n",
    "    df_results_non_cable = pd.DataFrame(results_non_cable, columns=['λ1','λ1-λ2','λ2-λ3'])\n",
    "    df_results_non_cable = df_results_non_cable[df_results_non_cable['λ1'] < 1]\n",
    "\n",
    "    if plotting:\n",
    "        fig, ax = plt.subplots(1)\n",
    "        df_results_cable.plot.scatter(x='λ1-λ2', y='λ2-λ3', s=0.1, alpha=0.5, ax=ax)\n",
    "        df_results_non_cable.plot.scatter(x='λ1-λ2', y='λ2-λ3', c='r', s=0.1, alpha=0.5, ax=ax)\n",
    "\n",
    "    return df_results_cable, df_results_non_cable"
   ]
  },
  {
   "cell_type": "code",
   "execution_count": null,
   "metadata": {},
   "outputs": [],
   "source": [
    "from sklearn.datasets import load_iris\n",
    "from sklearn.linear_model import LogisticRegression\n",
    "\n",
    "eig_val_vec = pc_pca(points, mask, method='radius', voxel_size=1.5)\n",
    "df_a, df_b = pca_method_comp(eig_val_vec, true_labels, mask)\n",
    "\n",
    "# Logistic Regregession Guess\n",
    "x_a = df_a.dropna().values[:,1:]\n",
    "x_b = df_b.dropna().values[:,1:]\n",
    "X = np.vstack([x_a,x_b])\n",
    "y = np.ones(len(X))\n",
    "y[len(x_a):] = 0\n",
    "\n",
    "clf = LogisticRegression(random_state=0).fit(X, y)\n",
    "cable_gueses = np.where(clf.predict(X)==1)[0]\n",
    "np.sum(y[cable_gueses]==1)/len(cable_gueses), np.sum(y[cable_gueses]==1), np.sum(y==1)\n",
    "\n",
    "b = clf.intercept_[0]\n",
    "w1, w2 = clf.coef_.T\n",
    "\n",
    "c = -b/w2\n",
    "m = -w1/w2\n",
    "\n",
    "xmin, xmax = -0.01, 0.6\n",
    "ymin, ymax = -0.01, 0.3\n",
    "xd = np.array([xmin, xmax])\n",
    "yd = m*xd + c\n",
    "plt.plot(xd, yd, 'k', lw=1, ls='--')\n",
    "plt.fill_between(xd, yd, ymin, color='tab:blue', alpha=0.2)\n",
    "plt.fill_between(xd, yd, ymax, color='tab:orange', alpha=0.2)\n",
    "\n",
    "plt.scatter(*X[:len(x_a)].T, s=4, alpha=0.5)\n",
    "plt.scatter(*X[len(x_a):].T, s=4, alpha=0.5)\n",
    "plt.xlim(xmin, xmax)\n",
    "plt.ylim(ymin, ymax)\n",
    "plt.ylabel(r'$λ_2-λ_3$')\n",
    "plt.xlabel(r'$λ_1-λ_2$')\n",
    "\n",
    "plt.show()\n"
   ]
  },
  {
   "cell_type": "code",
   "execution_count": null,
   "metadata": {},
   "outputs": [],
   "source": [
    "def comparison_analysis(points, mask, method, radius=1, knn=30, voxel_size=1):\n",
    "\n",
    "    eig_val_vec = pc_pca(points, mask, method=method, radius=radius, knn=knn, voxel_size=voxel_size)\n",
    "    df_a, df_b = pca_method_comp(eig_val_vec, true_labels, mask)\n",
    "\n",
    "    # Logistic Regregession Guess\n",
    "    x_a = df_a.values[:,1:]\n",
    "    x_b = df_b.values[:,1:]\n",
    "    X = np.vstack([x_a,x_b])\n",
    "    y = np.ones(len(X))\n",
    "    y[len(x_a):] = 0\n",
    "\n",
    "    scores = []\n",
    "    for x1 in np.arange(0.1,0.3,0.01):\n",
    "        for x2 in np.arange(0.0006,0.0024,0.0002):\n",
    "            cable_gueses = np.where((X[:,0] > x1) & (X[:,1] < x2))[0]\n",
    "            if len(cable_gueses) > 0:\n",
    "                score = round(np.sum(y[cable_gueses]==1)/len(cable_gueses),2)\n",
    "                qt = np.sum(y[cable_gueses]==1)\n",
    "                scores.append([x1,x2,score,qt])\n",
    "\n",
    "    df = pd.DataFrame(scores, columns=['x1','x2','acc','qty'])\n",
    "    return df[df.qty>3000].sort_values(['acc','qty'], ascending=False)[:10], X, y\n"
   ]
  },
  {
   "cell_type": "code",
   "execution_count": null,
   "metadata": {},
   "outputs": [],
   "source": [
    "for r in [1]:\n",
    "    start=time.time()\n",
    "    results = comparison_analysis(points, mask, method='radius', radius=r)[0]\n",
    "    duration=time.time()-start\n",
    "    print(f'Method RADIUS with r={r} ({round(duration,2)}s)')\n",
    "    display(results)\n"
   ]
  },
  {
   "cell_type": "code",
   "execution_count": null,
   "metadata": {},
   "outputs": [],
   "source": [
    "_, X, y = comparison_analysis(points, mask, method='radius', radius=1)\n",
    "xmin = 0.1\n",
    "ymax = 0.001\n",
    "\n",
    "# to pts\n",
    "cable_idx = np.where(true_labels[mask]==11)[0]\n",
    "non_cable_idx = np.where(true_labels[mask]!=11)[0]\n",
    "\n",
    "cable_lin = points[mask][cable_idx[np.where((X[:len(cable_idx),0] > xmin) & (X[:len(cable_idx),1] < ymax))[0]]]\n",
    "cable_n_lin = points[mask][cable_idx[np.where((X[:len(cable_idx),0] <= xmin) | (X[:len(cable_idx),1] >= ymax))[0]]]\n",
    "n_cable_lin = points[mask][non_cable_idx[np.where((X[len(cable_idx):,0] > xmin) & (X[len(cable_idx):,1] < ymax))[0]]]\n",
    "#n_cable_n_lin = points[mask][non_cable_idx[np.where((X[len(cable_idx):,0] <= xmin) | (X[len(cable_idx):,1] >= ymax))[0]]]\n",
    "\n",
    "fig = plt.figure()\n",
    "ax = plt.axes(projection='3d')\n",
    "\n",
    "ax.scatter(cable_lin[:, 0], cable_lin[:, 1], cable_lin[:, 2], s=2, color='tab:red', label='Cable (Linear)')\n",
    "ax.scatter(cable_n_lin[:, 0], cable_n_lin[:, 1], cable_n_lin[:, 2], s=0.25, color='tab:green', alpha=0.25, label='Cable (Non-Linear)')\n",
    "ax.scatter(n_cable_lin[:, 0], n_cable_lin[:, 1], n_cable_lin[:, 2], s=1, color='tab:blue', label='Non Cable (Linear)')\n",
    "ax.set_zlim((0,12))\n",
    "plt.legend()\n",
    "plt.show()"
   ]
  },
  {
   "cell_type": "code",
   "execution_count": null,
   "metadata": {},
   "outputs": [],
   "source": [
    "X, y = comparison_analysis(points, mask, method='radius', radius=1.5)\n",
    "xmin = 0.21\n",
    "ymax = 0.0008\n",
    "\n",
    "# to pts\n",
    "cable_idx = np.where(true_labels[mask]==11)[0]\n",
    "non_cable_idx = np.where(true_labels[mask]!=11)[0]\n",
    "\n",
    "cable_lin = points[mask][cable_idx[np.where((X[:len(cable_idx),0] > xmin) & (X[:len(cable_idx),1] < ymax))[0]]]\n",
    "cable_n_lin = points[mask][cable_idx[np.where((X[:len(cable_idx),0] <= xmin) | (X[:len(cable_idx),1] >= ymax))[0]]]\n",
    "n_cable_lin = points[mask][non_cable_idx[np.where((X[len(cable_idx):,0] > xmin) & (X[len(cable_idx):,1] < ymax))[0]]]\n",
    "n_cable_n_lin = points[mask][non_cable_idx[np.where((X[len(cable_idx):,0] <= xmin) | (X[len(cable_idx):,1] >= ymax))[0]]]\n",
    "\n",
    "fig = plt.figure()\n",
    "ax = plt.axes(projection='3d')\n",
    "\n",
    "ax.scatter(cable_lin[:, 0], cable_lin[:, 1], cable_lin[:, 2], s=1, color='tab:blue', label='Cable (Linear)')\n",
    "ax.scatter(cable_n_lin[:, 0], cable_n_lin[:, 1], cable_n_lin[:, 2], s=0.5, color='tab:grey', alpha=0.5, label='Cable (Non-Linear)')\n",
    "ax.scatter(n_cable_lin[:, 0], n_cable_lin[:, 1], n_cable_lin[:, 2], s=1, color='tab:red', label='Non Cable (Linear)')\n",
    "\n",
    "ax.set_zlim((0,12))\n",
    "plt.legend()\n",
    "plt.show()"
   ]
  },
  {
   "cell_type": "markdown",
   "metadata": {},
   "source": [
    "#### Step 3: Cluster Cable Points\n",
    "Use euclidean distance clustering to cluster candidate cable points. (params: distance threshold)"
   ]
  },
  {
   "cell_type": "code",
   "execution_count": 4,
   "metadata": {},
   "outputs": [],
   "source": [
    "def plot_clusters(points, clusters_labels, exclude_clusters=(), plot_3d=True):\n",
    "    clusters = set(clusters_labels).difference(exclude_clusters)\n",
    "    fig = plt.figure()\n",
    "\n",
    "    if plot_3d:\n",
    "        ax = plt.axes(projection='3d')\n",
    "        for cluster in clusters:\n",
    "            c_mask = clusters_labels == cluster\n",
    "            ax.scatter(points[c_mask][:,0],points[c_mask][:,1],points[c_mask][:,2], s=2, label=str(cluster))\n",
    "    else:\n",
    "        ax = plt.axes()\n",
    "        for cluster in clusters:\n",
    "            c_mask = clusters_labels == cluster\n",
    "            ax.scatter(points[c_mask][:,0],points[c_mask][:,1], s=1,label=str(cluster))\n",
    "            \n",
    "    plt.show()"
   ]
  },
  {
   "cell_type": "code",
   "execution_count": 5,
   "metadata": {},
   "outputs": [],
   "source": [
    "def cluster_cable_points(points, cable_mask, min_points = 4):\n",
    "\n",
    "    # Cluster the potential seed points.\n",
    "    clustering = (DBSCAN(eps=.75, min_samples=4, p=2).fit(points[cable_mask]))\n",
    "    cluster_labels, counts = np.unique(clustering.labels_, return_counts=True) # Get cluster labels and sizes.\n",
    "    \n",
    "    if min_points > 1:\n",
    "        # Only keep clusters with size at least min_points.\n",
    "        cluster_labels = cluster_labels[counts >= min_points]\n",
    "\n",
    "    # Create cable cluster labels\n",
    "    clustering_labels_ = np.zeros(len(cable_mask))\n",
    "    cluster_name = 1\n",
    "    cable_ids = np.where(cable_mask)[0]\n",
    "    for cl in set(cluster_labels).difference((-1,)):\n",
    "        c_mask = clustering.labels_ == cl\n",
    "        clustering_labels_[cable_ids[c_mask]] = cluster_name\n",
    "        cluster_name += 1\n",
    "\n",
    "    # Update cable mask\n",
    "    cable_mask = (clustering_labels_ != 0) \n",
    "\n",
    "\n",
    "    return cable_mask, clustering_labels_"
   ]
  },
  {
   "cell_type": "code",
   "execution_count": 6,
   "metadata": {},
   "outputs": [],
   "source": [
    "def unit_vector(v1):\n",
    "    \"\"\" Returns the unit vector of `v1`\"\"\"\n",
    "    return v1 / np.linalg.norm(v1)\n",
    "\n",
    "def angle_between(v1, v2):\n",
    "    \"\"\" Returns the angle in radians between vectors 'v1' and 'v2'\"\"\"\n",
    "    v1_u = unit_vector(v1)\n",
    "    v2_u = unit_vector(v2)\n",
    "    return np.rad2deg(np.arccos(np.clip(np.dot(v1_u, v2_u), -1.0, 1.0)))\n",
    "\n",
    "def main_direction(points):\n",
    "    \"\"\" Returns the eigenvector corresponding to the largest eigenvalue of `points`\"\"\"\n",
    "    cov = np.cov(points, rowvar=False)\n",
    "    eig_val, eig_vec = np.linalg.eig(cov)\n",
    "    dir_v = eig_vec[:,eig_val.argmax()]\n",
    "    if dir_v[0] < 0:\n",
    "        dir_v *= -1\n",
    "    return dir_v\n",
    "\n",
    "def calc_cluster_properties(points, clustering_labels_, exclude_clusters=()):\n",
    "    \"\"\" Returns a dict with cluster properties\"\"\"\n",
    "\n",
    "    properties = {}\n",
    "    for cl in set(clustering_labels_).difference(exclude_clusters):\n",
    "        cl_points = points[clustering_labels_ == cl]\n",
    "\n",
    "        cluster_property = {\n",
    "            'z_mean': np.mean(cl_points[:,2]),\n",
    "            'z_min': np.min(cl_points[:,2]),\n",
    "            'z_max': np.max(cl_points[:,2]),\n",
    "            'eig_v': main_direction(cl_points),\n",
    "            'line_fit': pyrsc.Line().fit(cl_points, thresh=0.2, maxIteration=100)[:2],\n",
    "            'plane_fit': RANSAC.Line().fit(cl_points, residual_threshold=0.2, max_trials=100)[0]\n",
    "            }\n",
    "        \n",
    "        properties[cl] = cluster_property\n",
    "    return properties"
   ]
  },
  {
   "cell_type": "markdown",
   "metadata": {},
   "source": [
    "### Step: Cable Growing"
   ]
  },
  {
   "cell_type": "code",
   "execution_count": 13,
   "metadata": {},
   "outputs": [],
   "source": [
    "# np.save('points.npy', points)\n",
    "# np.save('mask.npy', mask)\n",
    "# np.save('cl_labels.npy', clustering_labels_)\n",
    "\n",
    "# points = np.load('points.npy')\n",
    "# mask = np.load('mask.npy')\n",
    "# clustering_labels_ = np.load('cl_labels.npy')"
   ]
  },
  {
   "cell_type": "code",
   "execution_count": 7,
   "metadata": {},
   "outputs": [],
   "source": [
    "def grow_section(section_points, unlabeled_points, res_threshold=0.1):\n",
    "\n",
    "    # least-square curve fit\n",
    "    X_in = section_points[:,0]\n",
    "    A = np.c_[X_in, X_in*X_in, np.ones(len(X_in))]\n",
    "    C = np.linalg.lstsq(A, section_points[:,1], rcond=None)[0]\n",
    "\n",
    "    # Distance from unlabeled points to fitted curve\n",
    "    X_out = unlabeled_points[:,0]\n",
    "    Z_points = np.dot(np.c_[X_out, X_out*X_out, np.ones(len(X_out))], C)\n",
    "    residuals = Z_points - unlabeled_points[:,1]\n",
    "    inlier_mask = np.abs(residuals) < res_threshold\n",
    "\n",
    "    return inlier_mask\n",
    "\n",
    "def grow_clusters(points, cluster_labels, exclude_clusters=(0,), section_length=3, grow_length=1, cable_with=0.1):\n",
    "    \n",
    "    labels = cluster_labels.copy()\n",
    "    labels_mask = np.zeros(len(labels), dtype=bool)\n",
    "\n",
    "    for cl in set(labels).difference(exclude_clusters):\n",
    "        cl_mask = labels == cl\n",
    "        cl_points = points[cl_mask]\n",
    "        unlabeled_ids = np.where(labels == 0)[0]\n",
    "\n",
    "        # Create directional Axis\n",
    "        cl_dir = main_direction(cl_points[:,:2])\n",
    "        cl_D = np.dot(cl_points[:,:2], cl_dir)\n",
    "        cl_length = cl_D.max() - cl_D.min()\n",
    "        if cl_length > 1:\n",
    "            cl_points_dir = np.vstack([cl_D, cl_points[:,2]]).T\n",
    "            dxy_v = unit_vector(cl_dir) * grow_length\n",
    "\n",
    "            # grow head-section\n",
    "            head_ids = cl_D > cl_D.max() - section_length\n",
    "            head_xy = cl_points[cl_D.argmax(),:2]\n",
    "            grow_area = LineString([head_xy,head_xy + dxy_v]).buffer(cable_with)\n",
    "            grow_area_mask = clip_utils.poly_clip(points[unlabeled_ids], grow_area)\n",
    "            grow_ids = unlabeled_ids[grow_area_mask]\n",
    "            grow_points_D = np.vstack([np.dot(points[grow_ids][:,:2], cl_dir), points[grow_ids][:,2]]).T\n",
    "            inlier_mask = grow_section(cl_points_dir[head_ids], grow_points_D, cable_with)\n",
    "            labels[grow_ids[inlier_mask]] = cl\n",
    "            labels_mask[grow_ids[inlier_mask]] = True\n",
    "\n",
    "            # Grow tail-section\n",
    "            tail_ids = cl_D < cl_D.min() + section_length\n",
    "            tail_xy = cl_points[cl_D.argmin(),:2]\n",
    "            grow_area = LineString([tail_xy,tail_xy - dxy_v]).buffer(cable_with)\n",
    "            grow_area_mask = clip_utils.poly_clip(points[unlabeled_ids], grow_area)\n",
    "            grow_ids = unlabeled_ids[grow_area_mask]\n",
    "            grow_points_D = np.vstack([np.dot(points[grow_ids][:,:2], cl_dir), points[grow_ids][:,2]]).T\n",
    "            inlier_mask = grow_section(cl_points_dir[tail_ids], grow_points_D, cable_with)\n",
    "            labels[grow_ids[inlier_mask]] = cl\n",
    "            labels_mask[grow_ids[inlier_mask]] = True\n",
    "\n",
    "    return labels_mask, labels"
   ]
  },
  {
   "cell_type": "code",
   "execution_count": 8,
   "metadata": {},
   "outputs": [],
   "source": [
    "def mask_score(predicted, true):\n",
    "    score = 100 * np.sum(np.logical_and(predicted, true)) / np.sum(true)\n",
    "    return score\n",
    "\n",
    "def score_plot(points, mask, predicted, true):\n",
    "\n",
    "    true_ids = set(np.where(predicted)[0])\n",
    "    predicted_ids = set(np.where(true)[0])\n",
    "\n",
    "    TP = list(true_ids.intersection(predicted_ids))\n",
    "    FP = list(predicted_ids.difference(true_ids))\n",
    "    FN = list(true_ids.difference(predicted_ids))\n",
    "\n",
    "    fig = plt.figure(figsize=(8,8))\n",
    "    ax = plt.axes(projection='3d')\n",
    "    ax.scatter(points[mask][TP][:,0], points[mask][TP][:,1], points[mask][TP][:,2], s=1, alpha=0.5, color='green')\n",
    "    ax.scatter(points[mask][FP][:,0], points[mask][FP][:,1], points[mask][FP][:,2], s=1, color='red')\n",
    "    ax.scatter(points[mask][FN][:,0], points[mask][FN][:,1], points[mask][FN][:,2], s=1, alpha=0.8, color='grey')\n",
    "    ax.set_zlim((0,15))"
   ]
  },
  {
   "cell_type": "code",
   "execution_count": 15,
   "metadata": {},
   "outputs": [
    {
     "name": "stdout",
     "output_type": "stream",
     "text": [
      "ACC: 96.11% (82.96% before)\n"
     ]
    },
    {
     "data": {
      "text/plain": [
       "<mpl_toolkits.mplot3d.art3d.Path3DCollection at 0x7fc34a48cfa0>"
      ]
     },
     "execution_count": 15,
     "metadata": {},
     "output_type": "execute_result"
    },
    {
     "data": {
      "image/png": "[encoded data removed]",
      "text/plain": [
       "<Figure size 432x288 with 1 Axes>"
      ]
     },
     "metadata": {
      "needs_background": "light"
     },
     "output_type": "display_data"
    }
   ],
   "source": [
    "# Grow cable clusters\n",
    "labels_mask, clustering_labels_ = grow_clusters(points[mask], clustering_labels_, section_length=3, grow_length=1, cable_with=0.1)\n",
    "\n",
    "score = mask_score((clustering_labels_ != 0), true_cable_mask[mask])\n",
    "print(f'ACC: {round(score,2)}%')\n",
    "\n",
    "score_plot(points, mask, (clustering_labels_ != 0), true_cable_mask[mask])\n",
    "plot_clusters(points[mask], clustering_labels_, (0,), False)"
   ]
  },
  {
   "cell_type": "markdown",
   "metadata": {},
   "source": [
    "### Step 4: Merge cable segments\n",
    "Use cable segment properties to determine if cable segments belong to the same cable. Features which can be used: direction, height, and catenary fit."
   ]
  },
  {
   "cell_type": "code",
   "execution_count": 9,
   "metadata": {},
   "outputs": [],
   "source": [
    "def catenary_func(x, a, b, c):\n",
    "    return a + c * np.cosh((x-b) / c)\n",
    "\n",
    "def nearest_points(pts_a, pts_b):\n",
    "    cdist = scipy.spatial.distance.cdist(pts_a, pts_b)\n",
    "    idx_a, idx_b = np.unravel_index(np.argmin(cdist), cdist.shape)\n",
    "    return pts_a[idx_a], pts_b[idx_b], cdist.min()\n",
    "\n",
    "def catenary_merge(points, mask_A, mask_B, mask_unlabelled, plot=False):\n",
    "\n",
    "    # Define points\n",
    "    pts_A = points[mask_A]\n",
    "    pts_B = points[mask_B]\n",
    "    pts = np.vstack([pts_A, pts_B])\n",
    "    cable_dir = main_direction(pts[:,:2])\n",
    "    \n",
    "    # Define search gap\n",
    "    pA, pB, _ = nearest_points(pts_A, pts_B)\n",
    "    merge_line = LineString([pA, pB])\n",
    "    fit_mask = clip_utils.poly_clip(pts, merge_line.buffer(2.5))\n",
    "\n",
    "    # Trim cable points\n",
    "    d_pts = np.dot(pts[fit_mask][:,:2], cable_dir)\n",
    "    d_shift = d_pts.min()\n",
    "    d_pts -= d_shift\n",
    "    z_pts = pts[fit_mask][:,2]\n",
    "\n",
    "    # Gap points\n",
    "    gap_mask = clip_utils.poly_box_clip(points[mask_unlabelled], merge_line.buffer(.1), bottom=z_pts.min(), top=z_pts.max())\n",
    "    gap_pts = points[mask_unlabelled][gap_mask]\n",
    "    d_gap_pts = np.dot(gap_pts[:,:2], cable_dir) - d_shift\n",
    "    z_gap_pts = gap_pts[:,2]\n",
    "\n",
    "    # Curve fit on cable segments\n",
    "    popt, _ = curve_fit(catenary_func, d_pts, z_pts)\n",
    "\n",
    "    # Evaluate fit on cable\n",
    "    dist_z = abs(catenary_func(d_pts, *popt) - z_pts)\n",
    "    fit_inliers = dist_z < 0.1\n",
    "    fit_score = np.sum(fit_inliers) / len(fit_inliers)\n",
    "\n",
    "    # Evaluate fit on gap\n",
    "    dist_gap_z = abs(catenary_func(d_gap_pts, *popt) - z_gap_pts)\n",
    "    gap_inliers = dist_gap_z < 0.1\n",
    "    gap_score = np.sum(gap_inliers) / len(gap_pts)\n",
    "\n",
    "    if plot:\n",
    "        x = np.linspace(d_pts.min(),d_pts.max(),100)\n",
    "        y = catenary_func(x, *popt)\n",
    "\n",
    "        fig = plt.figure()\n",
    "        ax = plt.axes()\n",
    "        ax.scatter(d_pts[fit_inliers], z_pts[fit_inliers], s=1, color='blue')\n",
    "        ax.scatter(d_pts[~fit_inliers], z_pts[~fit_inliers], s=1, color='grey')\n",
    "        ax.scatter(d_gap_pts[gap_inliers], z_gap_pts[gap_inliers], s=1, color='green')\n",
    "        ax.scatter(d_gap_pts[~gap_inliers], z_gap_pts[~gap_inliers], s=1, color='red')\n",
    "        ax.plot(x, y, color='k', linestyle='--', linewidth=1)\n",
    "        ax.set_ylim((4,10))\n",
    "\n",
    "    inliers_mask = np.where(gap_mask)[0][gap_inliers]\n",
    "\n",
    "    return fit_score, gap_score, inliers_mask\n",
    "\n",
    "def end_points(pts_a):\n",
    "    dir = main_direction(pts_a[:,:2])\n",
    "    d_pts = np.dot(pts_a[:,:2], dir)\n",
    "    idx_a, idx_b = d_pts.argmin(), d_pts.argmax()\n",
    "    return pts_a[idx_a], pts_a[idx_b]\n",
    "\n",
    "def merge_clusters(points, clustering_labels_, max_angle_A=45, max_dist_A=.5, max_angle_B=5, max_dist_B=5):\n",
    "\n",
    "    cluster_labels, counts = np.unique(clustering_labels_, return_counts=True)\n",
    "    cluster_labels_sorted = list(cluster_labels[1:][counts[1:].argsort()[::-1]])\n",
    "\n",
    "    while len(cluster_labels_sorted) > 0:\n",
    "        current_label = cluster_labels_sorted[0]\n",
    "        candidate_labels = cluster_labels_sorted[1:]\n",
    "\n",
    "        for candidate_label in candidate_labels:\n",
    "\n",
    "            # TODO: pyrsc.Line().fit --> normal direction analysis? or faster\n",
    "\n",
    "            # Define current cluster\n",
    "            maskCur = clustering_labels_ == current_label\n",
    "            current_pts = points[maskCur]\n",
    "            endpts_can = end_points(current_pts)\n",
    "            current_v, current_i = pyrsc.Line().fit(current_pts, thresh=0.2, maxIteration=100)[:2]\n",
    "\n",
    "            # Define candidate cluster\n",
    "            maskCan = clustering_labels_ == candidate_label\n",
    "            candidate_pts = points[maskCan]\n",
    "            endpts_cur = end_points(candidate_pts)\n",
    "            candidate_v = pyrsc.Line().fit(candidate_pts, thresh=0.2, maxIteration=100)[0]\n",
    "\n",
    "            # Define unlabeled\n",
    "            mask_unlabelled = clustering_labels_ == 0\n",
    "\n",
    "            # Order endpoints of clusters in line\n",
    "            line_distances = scipy.spatial.distance.cdist(endpts_cur,endpts_can)\n",
    "            idx_cur, idx_can = np.unravel_index(line_distances.argmin(), line_distances.shape)\n",
    "            p1_cur, p2_cur = endpts_cur[idx_cur], endpts_cur[1-idx_cur]\n",
    "            p1_can, p2_can = endpts_can[idx_can], endpts_can[1-idx_can]\n",
    "            merge_line = LineString([p1_cur,p1_can])\n",
    "            merge_dist = np.min(line_distances)\n",
    "\n",
    "            # Merge properties\n",
    "            merge_angle = angle_between((p2_cur - p1_cur)[:2], (p1_can - p1_cur)[:2])\n",
    "            dir_angle = angle_between(candidate_v[:2], current_v[:2])\n",
    "            # print(candidate_label, 'to',current_label, ':', (round(merge_angle,2),(180 - max_angle_A)), round(dir_angle,2), (round(merge_dist,2),max_dist_A))\n",
    "            \n",
    "            if merge_angle > 90 and (dir_angle < max_angle_A or dir_angle > 180-max_angle_A) and merge_dist < max_dist_A:  \n",
    "                # 1. Clusters nearby\n",
    "                clustering_labels_[maskCan] = current_label\n",
    "                cluster_labels_sorted.remove(candidate_label)\n",
    "                fill_mask = clip_utils.poly_box_clip(points[mask_unlabelled], merge_line.buffer(.1), bottom=np.min([p1_cur[2],p1_can[2]]), top=np.max([p1_cur[2],p1_can[2]]))\n",
    "                clustering_labels_[mask_unlabelled][fill_mask] = current_label\n",
    "                # print('Added cluster', candidate_label, 'to',current_label)\n",
    "\n",
    "            elif merge_angle > (180 - max_angle_B) and (dir_angle < max_angle_A or dir_angle > 180-max_angle_A) and merge_dist < max_dist_B: \n",
    "                # 2. Cluster far away\n",
    "                fit_score, gap_score, gap_inliers = catenary_merge(points, maskCan, maskCur, mask_unlabelled, False)\n",
    "                if fit_score > .8:\n",
    "                    clustering_labels_[maskCan] = current_label\n",
    "                    cluster_labels_sorted.remove(candidate_label)\n",
    "                    clustering_labels_[np.where(mask_unlabelled)[0][gap_inliers]] = current_label\n",
    "                    # print('Added cluster', candidate_label, 'to',current_label)\n",
    "\n",
    "        # Remove cluster from list\n",
    "        cluster_labels_sorted.remove(current_label)\n",
    "    \n",
    "    return clustering_labels_"
   ]
  },
  {
   "cell_type": "code",
   "execution_count": 18,
   "metadata": {},
   "outputs": [
    {
     "name": "stderr",
     "output_type": "stream",
     "text": [
      "/var/folders/17/htr55f_n3pz93x7x89m0_nlc0000gp/T/ipykernel_1249/2858840857.py:3: RuntimeWarning: invalid value encountered in true_divide\n",
      "  return v1 / np.linalg.norm(v1)\n"
     ]
    },
    {
     "name": "stdout",
     "output_type": "stream",
     "text": [
      "ACC: 97.71% (96.11% before)\n"
     ]
    },
    {
     "data": {
      "image/png": "[encoded data removed]",
      "text/plain": [
       "<Figure size 432x288 with 1 Axes>"
      ]
     },
     "metadata": {
      "needs_background": "light"
     },
     "output_type": "display_data"
    }
   ],
   "source": [
    "# Merge cable clusters\n",
    "clustering_labels_ = merge_clusters(points[mask], clustering_labels_)\n",
    "score = mask_score((clustering_labels_ != 0), true_cable_mask[mask])\n",
    "print(f'ACC: {round(score,2)}%')\n",
    "\n",
    "score_plot(points, mask, (clustering_labels_ != 0), true_cable_mask[mask])\n",
    "plot_clusters(points[mask], clustering_labels_, (0,), False)"
   ]
  },
  {
   "cell_type": "markdown",
   "metadata": {},
   "source": [
    "### export"
   ]
  },
  {
   "cell_type": "code",
   "execution_count": 67,
   "metadata": {},
   "outputs": [],
   "source": [
    "cable_ids = np.where(mask)[0][np.where(clustering_labels_ != 0)[0]]\n",
    "labels[cable_ids] = 11\n",
    "out_file = '../datasets/Valeriusplein/pointcloud/M2_' + tilecode + '.laz'\n",
    "las_utils.label_and_save_las(pointcloud, labels, out_file)"
   ]
  },
  {
   "cell_type": "code",
   "execution_count": 41,
   "metadata": {},
   "outputs": [
    {
     "name": "stdout",
     "output_type": "stream",
     "text": [
      "7419\n"
     ]
    }
   ],
   "source": [
    "# # Analysis Export\n",
    "\n",
    "# cable_point_ids = np.where(mask)[0][np.where(clustering_labels_ != 0)[0]]\n",
    "\n",
    "# tp_ids = set(np.where(true_cable_mask)[0]).intersection(set(cable_point_ids))\n",
    "# fn_ids = set(np.where(true_cable_mask)[0]).difference(set(cable_point_ids))\n",
    "# fp_ids = set(cable_point_ids).difference(set(np.where(true_cable_mask)[0]))\n",
    "\n",
    "# labels[list(tp_ids)] = 11\n",
    "# labels[list(fp_ids)] = 16\n",
    "# labels[list(fn_ids)] = 18\n",
    "# print((labels==11).sum() )\n",
    "# out_file = '../datasets/Valeriusplein/pointcloud/exp_B_' + tilecode + '.laz'\n",
    "# las_utils.label_and_save_las(pointcloud, labels, out_file)"
   ]
  },
  {
   "cell_type": "code",
   "execution_count": null,
   "metadata": {},
   "outputs": [],
   "source": []
  }
 ],
 "metadata": {
  "interpreter": {
   "hash": "7366f18c254adf4309e22c54c7a399c75fae7c7cb920374cdfae4ada38c45d67"
  },
  "kernelspec": {
   "display_name": "Python 3.8.12 ('pointcloud')",
   "language": "python",
   "name": "python3"
  },
  "language_info": {
   "codemirror_mode": {
    "name": "ipython",
    "version": 3
   },
   "file_extension": ".py",
   "mimetype": "text/x-python",
   "name": "python",
   "nbconvert_exporter": "python",
   "pygments_lexer": "ipython3",
   "version": "3.9.9"
  },
  "orig_nbformat": 4
 },
 "nbformat": 4,
 "nbformat_minor": 2
}
