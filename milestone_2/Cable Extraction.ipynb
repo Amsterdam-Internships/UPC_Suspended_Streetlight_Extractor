{
 "cells": [
  {
   "cell_type": "code",
   "execution_count": 3,
   "metadata": {},
   "outputs": [],
   "source": [
    "# Add project src to path.\n",
    "import set_path\n",
    "\n",
    "# Import modules.\n",
    "import numpy as np\n",
    "import time\n",
    "import logging\n",
    "\n",
    "# Visulatisation\n",
    "%matplotlib widget\n",
    "import matplotlib.pyplot as plt\n",
    "\n",
    "import set_path\n",
    "import src.utils.ahn_utils as ahn_utils\n",
    "import src.utils.las_utils as las_utils\n",
    "import src.utils.plot_utils as plot_utils\n",
    "\n",
    "import open3d as o3d\n",
    "from pyntcloud import PyntCloud\n",
    "import pandas as pd\n",
    "from skimage import feature\n",
    "from scipy import ndimage\n",
    "\n",
    "from skimage.transform import probabilistic_hough_line, hough_line, hough_line_peaks"
   ]
  },
  {
   "cell_type": "code",
   "execution_count": 6,
   "metadata": {},
   "outputs": [],
   "source": [
    "# Load data.\n",
    "tilecode = '2386_9699'\n",
    "\n",
    "# Labelled LAS file (see Notebook 0).\n",
    "las_file = '../datasets/Valeriusplein/pointcloud/reduced_' + tilecode + '.laz'\n",
    "\n",
    "# AHN data folder.\n",
    "ahn_data_folder = '../datasets/Valeriusplein/ahn/'\n",
    "# File with BGT building polygons.\n",
    "bgt_building_file = '../datasets/Valeriusplein/bgt/bgt_buildings.csv'\n",
    "# File with BGT road polygons.\n",
    "bgt_road_file = '../datasets/Valeriusplein/bgt/bgt_roads.csv'\n",
    "# File with <x,y> coordinates of pole-like objects.\n",
    "bgt_pole_file = '../datasets/Valeriusplein/bgt/custom_poles.csv'\n",
    "# File with <x,y> coordinates of street furniture objects.\n",
    "bgt_street_furniture_file = '../datasets/Valeriusplein/bgt/bgt_street_furniture.csv'\n",
    "\n",
    "# AHNReader for elevation data.\n",
    "ahn_reader = ahn_utils.NPZReader(ahn_data_folder)"
   ]
  },
  {
   "cell_type": "code",
   "execution_count": 7,
   "metadata": {},
   "outputs": [
    {
     "data": {
      "application/vnd.jupyter.widget-view+json": {
       "model_id": "367e582abecd45c8b5f7de82d95d5002",
       "version_major": 2,
       "version_minor": 0
      },
      "text/plain": [
       "Canvas(toolbar=Toolbar(toolitems=[('Home', 'Reset original view', 'home', 'home'), ('Back', 'Back to previous …"
      ]
     },
     "metadata": {},
     "output_type": "display_data"
    }
   ],
   "source": [
    "plot_utils.plot_bgt(tilecode, bgt_building_file, bgt_road_file, bgt_pole_file, bgt_street_furniture_file, padding=5)"
   ]
  },
  {
   "cell_type": "markdown",
   "metadata": {},
   "source": [
    "### **Cable Extraction:** 2D projection"
   ]
  },
  {
   "cell_type": "code",
   "execution_count": 8,
   "metadata": {},
   "outputs": [],
   "source": [
    "pointcloud = las_utils.read_las(las_file)\n",
    "points = np.vstack((pointcloud.x, pointcloud.y, pointcloud.z)).T\n",
    "labels = pointcloud.label\n",
    "\n",
    "# mask for unlabelled\n",
    "mask = np.where(labels == 0)[0]"
   ]
  },
  {
   "cell_type": "code",
   "execution_count": 10,
   "metadata": {},
   "outputs": [
    {
     "name": "stdout",
     "output_type": "stream",
     "text": [
      "Voxels per axis: [250 232  90]\n"
     ]
    }
   ],
   "source": [
    "# 1. Voxelize\n",
    "\n",
    "\n",
    "# Voxelize point cloud\n",
    "voxel_size = 0.20\n",
    "cloud = PyntCloud(pd.DataFrame(points[mask,:], columns=['x','y','z']))\n",
    "voxelgrid_id = cloud.add_structure(\"voxelgrid\", size_x=voxel_size, size_y=voxel_size, size_z=voxel_size, regular_bounding_box=False)\n",
    "voxelgrid = cloud.structures[voxelgrid_id]\n",
    "print('Voxels per axis:',voxelgrid.x_y_z)\n"
   ]
  },
  {
   "cell_type": "code",
   "execution_count": 11,
   "metadata": {},
   "outputs": [
    {
     "data": {
      "text/plain": [
       "[0.2, 0.2008620689654169, 0.20222222222222216]"
      ]
     },
     "execution_count": 11,
     "metadata": {},
     "output_type": "execute_result"
    }
   ],
   "source": [
    "voxelgrid.shape"
   ]
  },
  {
   "cell_type": "code",
   "execution_count": 12,
   "metadata": {},
   "outputs": [
    {
     "data": {
      "text/plain": [
       "(250, 232, 90)"
      ]
     },
     "execution_count": 12,
     "metadata": {},
     "output_type": "execute_result"
    }
   ],
   "source": [
    "# Unique voxel number for each point in the point cloud\n",
    "voxelgrid.voxel_n\n",
    "\n",
    "# Corresponding voxel per axis for each point in the point cloud\n",
    "voxelgrid.voxel_x, voxelgrid.voxel_y, voxelgrid.voxel_z\n",
    "\n",
    "# non-empty 26 neighbors of voxel\n",
    "voxelgrid.get_voxel_neighbors(874)\n",
    "\n",
    "# voxel centers by index\n",
    "voxelgrid.voxel_centers\n",
    "\n",
    "# Query point coords to voxel\n",
    "voxelgrid.query(points[mask,:][:10])\n",
    "\n",
    "# voxel grid values?\n",
    "voxelgrid.segments\n",
    "\n",
    "# Binary of cell is empty or not\n",
    "voxelgrid.get_feature_vector().shape"
   ]
  },
  {
   "cell_type": "code",
   "execution_count": 13,
   "metadata": {},
   "outputs": [],
   "source": [
    "# 2. Top-down projection\n",
    "voxelgrid_2d = voxelgrid.get_feature_vector().sum(axis=2)\n",
    "voxelgrid_2d = np.asarray(voxelgrid_2d > 0, dtype=int)\n",
    "x, y = voxelgrid_2d.nonzero()"
   ]
  },
  {
   "cell_type": "code",
   "execution_count": 20,
   "metadata": {},
   "outputs": [],
   "source": [
    "# Proejction Filters\n",
    "def culling(grid_projection, low_threshold=0, high_threshold=5):\n",
    "    '''\n",
    "    An empty space around cables is assumed, therefore dense cells surrounded with\n",
    "    too many further dense cells can be concluded not being part of a cable. \n",
    "    Remove points with no or 3+ 8-neighbors.\n",
    "    '''\n",
    "    k = np.array([[1,1,1],[1,0,1],[1,1,1]])\n",
    "    cell_density = ndimage.convolve(grid_projection, k) * grid_projection\n",
    "    return np.logical_and(cell_density < high_threshold, cell_density > low_threshold).astype(int)\n",
    "\n",
    "def closing(grid_projection, n_iterations=1):\n",
    "    '''\n",
    "    Removes small holes in the foreground (dilation→erosion)\n",
    "    '''\n",
    "    return ndimage.binary_closing(grid_projection, iterations=n_iterations)\n",
    "\n",
    "def canny_edge(grid_projection, sigma=0.5, low_threshold=0, high_threshold=1):\n",
    "    '''\n",
    "    Edge extraction algorithm (can also use openCV implementation)\n",
    "    '''\n",
    "    return feature.canny(voxelgrid_2d, sigma=sigma, low_threshold=low_threshold, high_threshold=high_threshold)"
   ]
  },
  {
   "cell_type": "code",
   "execution_count": null,
   "metadata": {},
   "outputs": [],
   "source": [
    "def apply_filters(grid_projection, filters):\n",
    "    for filter in filters:\n",
    "        if filter == ''"
   ]
  },
  {
   "cell_type": "code",
   "execution_count": 14,
   "metadata": {},
   "outputs": [],
   "source": [
    "# 3. High-point density filter / vegation filter\n",
    "\n",
    "# 3.1.1 Culling\n",
    "# An empty space around cables is assumed, therefore dense cells surrounded with too many further dense cells can be concluded not being part of a cable. Remove points with no or 3+ 8-neighbors.\n",
    "\n",
    "\n",
    "# 3.1.2 Closing (morphology)\n",
    "# \n",
    "\n",
    "\n",
    "# 3.3 Canny Filter\n",
    "\n"
   ]
  },
  {
   "cell_type": "code",
   "execution_count": 19,
   "metadata": {},
   "outputs": [
    {
     "data": {
      "application/vnd.jupyter.widget-view+json": {
       "model_id": "90c5b88216fc4b4d8e704c3cb35aaac9",
       "version_major": 2,
       "version_minor": 0
      },
      "text/plain": [
       "Canvas(toolbar=Toolbar(toolitems=[('Home', 'Reset original view', 'home', 'home'), ('Back', 'Back to previous …"
      ]
     },
     "metadata": {},
     "output_type": "display_data"
    },
    {
     "data": {
      "text/plain": [
       "Text(0.5, 1.0, 'Canny')"
      ]
     },
     "execution_count": 19,
     "metadata": {},
     "output_type": "execute_result"
    }
   ],
   "source": [
    "fig, axes = plt.subplots(2, 2, sharex=True, sharey=True)\n",
    "ax = axes.ravel()\n",
    "\n",
    "ax[0].imshow(voxelgrid_2d, cmap='gray')\n",
    "ax[0].set_title('Original')\n",
    "ax[1].imshow(voxelgrid_2d_culling, cmap='gray')\n",
    "ax[1].set_title('Culling')\n",
    "ax[2].imshow(voxelgrid_2d_closed, cmap='gray')\n",
    "ax[2].set_title('Closing')\n",
    "ax[3].imshow(voxelgrid_2d_edge, cmap='gray')\n",
    "ax[3].set_title('Canny')"
   ]
  },
  {
   "cell_type": "code",
   "execution_count": 16,
   "metadata": {},
   "outputs": [
    {
     "name": "stdout",
     "output_type": "stream",
     "text": [
      "points in gird: 1532\n"
     ]
    }
   ],
   "source": [
    "print('points in gird:',voxelgrid_2d_culling.sum())"
   ]
  },
  {
   "cell_type": "code",
   "execution_count": 332,
   "metadata": {},
   "outputs": [
    {
     "data": {
      "text/plain": [
       "101"
      ]
     },
     "execution_count": 332,
     "metadata": {},
     "output_type": "execute_result"
    }
   ],
   "source": [
    "y, x = voxelgrid_2d_culling.nonzero()\n",
    "eps = 5\n",
    "line_points = []\n",
    "non_line_points = []\n",
    "residuals = []\n",
    "slope = np.tan(angle + np.pi/2)\n",
    "\n",
    "for i in range(len(x)):\n",
    "    residual = abs((y0 - y[i]) - slope * (x0 - x[i]))\n",
    "    residuals.append(residual)\n",
    "    if residual < eps:\n",
    "        line_points.append((x[i],y[i]))\n",
    "    else:\n",
    "        non_line_points.append((x[i],y[i]))\n",
    "\n",
    "len(line_points)"
   ]
  },
  {
   "cell_type": "code",
   "execution_count": 333,
   "metadata": {},
   "outputs": [],
   "source": [
    "voxelgrid_2d_culling[np.array(line_points)[:,1], np.array(line_points)[:,0]] = 0"
   ]
  },
  {
   "cell_type": "code",
   "execution_count": 11,
   "metadata": {},
   "outputs": [
    {
     "data": {
      "application/vnd.jupyter.widget-view+json": {
       "model_id": "db7bd98337aa41adb1c05379c5f61eed",
       "version_major": 2,
       "version_minor": 0
      },
      "text/plain": [
       "Canvas(toolbar=Toolbar(toolitems=[('Home', 'Reset original view', 'home', 'home'), ('Back', 'Back to previous …"
      ]
     },
     "metadata": {},
     "output_type": "display_data"
    },
    {
     "data": {
      "text/plain": [
       "Text(0.5, 1.0, 'Probabilistic Hough')"
      ]
     },
     "execution_count": 11,
     "metadata": {},
     "output_type": "execute_result"
    }
   ],
   "source": [
    "# 4. Line detection: Hough Transfrom\n",
    "min_cable_length_m = 5\n",
    "lines = probabilistic_hough_line(voxelgrid_2d_culling, threshold=10, line_length=int(min_cable_length_m/voxel_size), line_gap=4)\n",
    "\n",
    "# Generating figure 2\n",
    "fig, axes = plt.subplots(1, 2, sharex=True, sharey=True)\n",
    "ax = axes.ravel()\n",
    "\n",
    "ax[0].imshow(voxelgrid_2d_culling, cmap='gray')\n",
    "ax[0].set_title('Input image')\n",
    "\n",
    "ax[1].imshow(voxelgrid_2d_culling * 0)\n",
    "for line in lines:\n",
    "    p0, p1 = line\n",
    "    ax[0].plot((p0[0], p1[0]), (p0[1], p1[1]))\n",
    "    ax[1].plot((p0[0], p1[0]), (p0[1], p1[1]))\n",
    "ax[1].set_xlim((0, voxelgrid_2d_culling.shape[1]))\n",
    "ax[1].set_ylim((voxelgrid_2d_culling.shape[0], 0))\n",
    "ax[1].set_title('Probabilistic Hough')"
   ]
  },
  {
   "cell_type": "code",
   "execution_count": 397,
   "metadata": {},
   "outputs": [
    {
     "data": {
      "application/vnd.jupyter.widget-view+json": {
       "model_id": "e06168d933024be683ad01a166abc59f",
       "version_major": 2,
       "version_minor": 0
      },
      "text/plain": [
       "Canvas(toolbar=Toolbar(toolitems=[('Home', 'Reset original view', 'home', 'home'), ('Back', 'Back to previous …"
      ]
     },
     "metadata": {},
     "output_type": "display_data"
    },
    {
     "data": {
      "text/plain": [
       "((129, 225), (39, 2))"
      ]
     },
     "execution_count": 397,
     "metadata": {},
     "output_type": "execute_result"
    }
   ],
   "source": [
    "fig, ax = plt.subplots(1, sharex=True, sharey=True)\n",
    "ax.imshow(voxelgrid_2d_culling, cmap='gray')\n",
    "\n",
    "p0, p1 = lines[0]\n",
    "ax.plot((p0[0], p1[0]), (p0[1], p1[1]))\n",
    "p0, p1 = lines[1]\n",
    "ax.plot((p0[0], p1[0]), (p0[1], p1[1]))\n",
    "p0, p1 = lines[2]\n",
    "ax.plot((p0[0], p1[0]), (p0[1], p1[1]))\n",
    "\n",
    "lines[0]\n"
   ]
  },
  {
   "cell_type": "code",
   "execution_count": null,
   "metadata": {},
   "outputs": [],
   "source": []
  },
  {
   "cell_type": "code",
   "execution_count": 44,
   "metadata": {},
   "outputs": [],
   "source": [
    "line_properties = []\n",
    "for s in range(len(lines)):\n",
    "    p0, p1 = lines[s]\n",
    "    slope =  (p1[1] - p0[1]) / (p1[0]-p0[0])\n",
    "    b =  p0[1] - (p0[0] * slope)\n",
    "    line_properties.append((slope,b))\n",
    "line_properties = np.asarray(line_properties)"
   ]
  },
  {
   "cell_type": "code",
   "execution_count": null,
   "metadata": {},
   "outputs": [],
   "source": [
    "from itertools import combinations\n",
    "i=0\n",
    "for (line_a, line_b) in combinations(list(range(len(lines))), 2):\n",
    "    slope_diff, b_diff = abs(line_properties[line_a] - line_properties[line_b])\n",
    "    if slope_diff < 0.1 and b_diff < 3:\n",
    "        print((line_a, line_b), slope_diff, b_diff)\n",
    "        i += 1\n",
    "        fig, ax = plt.subplots(1, sharex=True, sharey=True)\n",
    "        ax.imshow(voxelgrid_2d_culling, cmap='gray')\n",
    "\n",
    "        p0, p1 = lines[line_a]\n",
    "        ax.plot((p0[0], p1[0]), (p0[1], p1[1]))\n",
    "        p0, p1 = lines[line_b]\n",
    "        ax.plot((p0[0], p1[0]), (p0[1], p1[1]))"
   ]
  },
  {
   "cell_type": "code",
   "execution_count": 385,
   "metadata": {},
   "outputs": [],
   "source": [
    "\n",
    "eps = 5\n",
    "\n",
    "line_points = {}\n",
    "for s in range(len(lines)):\n",
    "    line_points[s] = []\n",
    "line_points['unlabelled'] = []\n",
    "\n",
    "y, x = voxelgrid_2d_culling.nonzero()\n",
    "for i in range(len(x)):\n",
    "    for s in range(len(lines)):\n",
    "        p0, p1 = lines[s]\n",
    "        dist_line = np.sqrt((p0[0] - p1[0])**2 + (p0[1] - p1[1])**2)\n",
    "\n",
    "        dist_A = np.sqrt((p0[0] - x[i])**2 + (p0[1] - y[i])**2)\n",
    "        dist_B = np.sqrt((p1[0] - x[i])**2 + (p1[1] - y[i])**2)\n",
    "\n",
    "        if abs(dist_line - (dist_A + dist_B)) < eps:\n",
    "            line_points[s].append((x[i],y[i]))\n",
    "            break\n",
    "\n",
    "    line_points['unlabelled'].append((x[i],y[i]))\n",
    "\n"
   ]
  },
  {
   "cell_type": "code",
   "execution_count": null,
   "metadata": {},
   "outputs": [],
   "source": [
    "# 5. Cable extraction: 3D-RANSAC\n",
    "\n"
   ]
  }
 ],
 "metadata": {
  "interpreter": {
   "hash": "631806e10756e17fc0fd7ada305726dc7821d90278ba721d2afe07aa2cf1effd"
  },
  "kernelspec": {
   "display_name": "Python 3.9.9 ('.point_cloud': venv)",
   "language": "python",
   "name": "python3"
  },
  "language_info": {
   "codemirror_mode": {
    "name": "ipython",
    "version": 3
   },
   "file_extension": ".py",
   "mimetype": "text/x-python",
   "name": "python",
   "nbconvert_exporter": "python",
   "pygments_lexer": "ipython3",
   "version": "3.8.12"
  },
  "orig_nbformat": 4
 },
 "nbformat": 4,
 "nbformat_minor": 2
}
