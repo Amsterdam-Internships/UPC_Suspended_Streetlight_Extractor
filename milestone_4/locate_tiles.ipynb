{
 "cells": [
  {
   "cell_type": "markdown",
   "id": "db497f47-e750-48cb-b8bc-a348232535e1",
   "metadata": {},
   "source": [
    "# Locate point cloud tiles in storage based on target areas"
   ]
  },
  {
   "cell_type": "code",
   "execution_count": 3,
   "id": "47e5f43f-37ed-4f43-ae4d-06f7180a6cad",
   "metadata": {},
   "outputs": [],
   "source": [
    "import pandas as pd\n",
    "import geopandas as gpd\n",
    "from tqdm.notebook import tqdm\n",
    "tqdm.pandas()\n",
    "import shapely.geometry as sg"
   ]
  },
  {
   "cell_type": "code",
   "execution_count": 18,
   "id": "cc9bb2b0-b181-408c-a493-5f1c08b75a20",
   "metadata": {},
   "outputs": [],
   "source": [
    "### SETTINGS ###\n",
    "run = 'run1'  # or 'run2'\n",
    "data_file = f'../datasets/AMS_{run}_tiles_list.csv'\n"
   ]
  },
  {
   "cell_type": "code",
   "execution_count": 19,
   "id": "daf07ba5-fead-4add-b22e-c9229304d20b",
   "metadata": {},
   "outputs": [
    {
     "data": {
      "text/html": [
       "<div>\n",
       "<style scoped>\n",
       "    .dataframe tbody tr th:only-of-type {\n",
       "        vertical-align: middle;\n",
       "    }\n",
       "\n",
       "    .dataframe tbody tr th {\n",
       "        vertical-align: top;\n",
       "    }\n",
       "\n",
       "    .dataframe thead th {\n",
       "        text-align: right;\n",
       "    }\n",
       "</style>\n",
       "<table border=\"1\" class=\"dataframe\">\n",
       "  <thead>\n",
       "    <tr style=\"text-align: right;\">\n",
       "      <th></th>\n",
       "      <th>folder</th>\n",
       "      <th>tilecode</th>\n",
       "      <th>n_points</th>\n",
       "      <th>RD_X</th>\n",
       "      <th>RD_Y</th>\n",
       "      <th>dup</th>\n",
       "    </tr>\n",
       "  </thead>\n",
       "  <tbody>\n",
       "    <tr>\n",
       "      <th>0</th>\n",
       "      <td>nl-amsd-200519-7415-laz</td>\n",
       "      <td>2201_9810</td>\n",
       "      <td>1815</td>\n",
       "      <td>110050</td>\n",
       "      <td>490500</td>\n",
       "      <td>False</td>\n",
       "    </tr>\n",
       "    <tr>\n",
       "      <th>1</th>\n",
       "      <td>nl-amsd-200519-7415-laz</td>\n",
       "      <td>2340_9815</td>\n",
       "      <td>61943</td>\n",
       "      <td>117000</td>\n",
       "      <td>490750</td>\n",
       "      <td>False</td>\n",
       "    </tr>\n",
       "    <tr>\n",
       "      <th>2</th>\n",
       "      <td>nl-amsd-200519-7415-laz</td>\n",
       "      <td>2340_9814</td>\n",
       "      <td>40536</td>\n",
       "      <td>117000</td>\n",
       "      <td>490700</td>\n",
       "      <td>False</td>\n",
       "    </tr>\n",
       "    <tr>\n",
       "      <th>3</th>\n",
       "      <td>nl-amsd-200519-7415-laz</td>\n",
       "      <td>2340_9813</td>\n",
       "      <td>588</td>\n",
       "      <td>117000</td>\n",
       "      <td>490650</td>\n",
       "      <td>False</td>\n",
       "    </tr>\n",
       "    <tr>\n",
       "      <th>4</th>\n",
       "      <td>nl-amsd-200519-7415-laz</td>\n",
       "      <td>2340_9809</td>\n",
       "      <td>1073180</td>\n",
       "      <td>117000</td>\n",
       "      <td>490450</td>\n",
       "      <td>False</td>\n",
       "    </tr>\n",
       "  </tbody>\n",
       "</table>\n",
       "</div>"
      ],
      "text/plain": [
       "                    folder   tilecode  n_points    RD_X    RD_Y    dup\n",
       "0  nl-amsd-200519-7415-laz  2201_9810      1815  110050  490500  False\n",
       "1  nl-amsd-200519-7415-laz  2340_9815     61943  117000  490750  False\n",
       "2  nl-amsd-200519-7415-laz  2340_9814     40536  117000  490700  False\n",
       "3  nl-amsd-200519-7415-laz  2340_9813       588  117000  490650  False\n",
       "4  nl-amsd-200519-7415-laz  2340_9809   1073180  117000  490450  False"
      ]
     },
     "execution_count": 19,
     "metadata": {},
     "output_type": "execute_result"
    }
   ],
   "source": [
    "all_tiles = pd.read_csv(data_file)\n",
    "all_tiles.head()"
   ]
  },
  {
   "cell_type": "code",
   "execution_count": 20,
   "id": "dd985172-df96-4aaa-bdb0-3358c5366d5f",
   "metadata": {},
   "outputs": [],
   "source": [
    "# Convert to GeoDataFrame\n",
    "all_tiles['geometry'] = all_tiles.apply(lambda row: sg.box(row.RD_X, row.RD_Y, row.RD_X+50, row.RD_Y+50), axis=1)\n",
    "all_tiles_gdf = gpd.GeoDataFrame(all_tiles)\n",
    "all_tiles = None"
   ]
  },
  {
   "cell_type": "code",
   "execution_count": 43,
   "id": "a9212d61",
   "metadata": {},
   "outputs": [],
   "source": [
    "def get_tile_code(coord):\n",
    "    target_points = gpd.GeoDataFrame({'geometry': [sg.Point(coord)]})\n",
    "    all_tiles_gdf['target'] = all_tiles_gdf.apply(lambda row: target_points.intersects(row.geometry).any(), axis=1)\n",
    "    target_tiles_gdf = all_tiles_gdf[all_tiles_gdf.target]\n",
    "    return target_tiles_gdf['tilecode'].values[0]"
   ]
  },
  {
   "cell_type": "code",
   "execution_count": 45,
   "id": "8bcf07d2",
   "metadata": {},
   "outputs": [],
   "source": [
    "df_lamps = pd.read_csv('armatuur_table.csv')\n",
    "df_lamps['tile_code'] = df_lamps.apply(lambda row: get_tile_code([row.coord_X,row.coord_Y]), axis=1)\n",
    "df_lamps.head()"
   ]
  },
  {
   "cell_type": "code",
   "execution_count": null,
   "id": "a2c3bea3",
   "metadata": {},
   "outputs": [],
   "source": [
    "df_lamps.to_csv('armatuur_table.csv', index=False)"
   ]
  }
 ],
 "metadata": {
  "kernelspec": {
   "display_name": "Python 3 (ipykernel)",
   "language": "python",
   "name": "python3"
  },
  "language_info": {
   "codemirror_mode": {
    "name": "ipython",
    "version": 3
   },
   "file_extension": ".py",
   "mimetype": "text/x-python",
   "name": "python",
   "nbconvert_exporter": "python",
   "pygments_lexer": "ipython3",
   "version": "3.8.12"
  }
 },
 "nbformat": 4,
 "nbformat_minor": 5
}
