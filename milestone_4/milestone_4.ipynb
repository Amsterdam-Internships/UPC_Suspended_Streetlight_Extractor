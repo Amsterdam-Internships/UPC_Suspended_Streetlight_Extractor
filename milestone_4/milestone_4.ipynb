{
 "cells": [
  {
   "cell_type": "code",
   "execution_count": 1,
   "metadata": {},
   "outputs": [],
   "source": [
    "import set_path\n",
    "\n",
    "import numpy as np\n",
    "import pandas as pd\n",
    "import logging\n",
    "import time\n",
    "import glob\n",
    "\n",
    "import src.utils.ahn_utils as ahn_utils\n",
    "import src.utils.bgt_utils as bgt_utils\n",
    "import src.utils.las_utils as las_utils\n",
    "import src.utils.log_utils as log_utils\n",
    "import src.utils.plot_utils as plot_utils\n",
    "import src.analysis.analysis_tools as analysis_tools\n",
    "\n",
    "from armatuur_fuser import ArmatuurFuser\n",
    "\n",
    "log_utils.reset_logger()\n",
    "log_utils.add_console_logger(level=logging.DEBUG)\n",
    "\n",
    "logger = logging.getLogger(__name__)"
   ]
  },
  {
   "cell_type": "markdown",
   "metadata": {},
   "source": [
    "**Load Data**"
   ]
  },
  {
   "cell_type": "code",
   "execution_count": null,
   "metadata": {},
   "outputs": [],
   "source": [
    "# Load data.\n",
    "tilecode = '2387_9699'\n",
    "\n",
    "# Labelled LAS file (see Notebook 0).\n",
    "las_file = '../datasets/Lairessestraat/pointcloud/labelled_' + tilecode + '.laz'\n",
    "processed_las_file = '../datasets/Lairessestraat/pointcloud/processed_' + tilecode + '.laz'"
   ]
  },
  {
   "cell_type": "code",
   "execution_count": null,
   "metadata": {},
   "outputs": [],
   "source": [
    "# Load pointcloud\n",
    "pointcloud = las_utils.read_las(las_file)\n",
    "points = np.vstack((pointcloud.x, pointcloud.y, pointcloud.z)).T\n",
    "labels = pointcloud.label\n",
    "\n",
    "# colors\n",
    "pc_colors =  np.vstack((pointcloud.red, pointcloud.blue, pointcloud.green)).T\n",
    "\n",
    "# Mask\n",
    "mask = np.ones(len(points), dtype=bool)"
   ]
  },
  {
   "cell_type": "code",
   "execution_count": null,
   "metadata": {},
   "outputs": [],
   "source": [
    "# Load pointcloud\n",
    "pointcloud = las_utils.read_las(processed_las_file)\n",
    "points = np.vstack((pointcloud.x, pointcloud.y, pointcloud.z)).T\n",
    "labels = pointcloud.label\n",
    "\n",
    "# colors\n",
    "pc_colors =  np.vstack((pointcloud.red, pointcloud.blue, pointcloud.green)).T\n",
    "\n",
    "# Mask\n",
    "mask = np.ones(len(points), dtype=bool)"
   ]
  },
  {
   "cell_type": "markdown",
   "metadata": {},
   "source": [
    "**Armatuur Extraction**"
   ]
  },
  {
   "cell_type": "code",
   "execution_count": null,
   "metadata": {},
   "outputs": [],
   "source": [
    "armatuur_params={'width': (.25, 1.25), 'height': (.25, .6), 'z_offset':(0,.55), 'axis_offset': 0.1}\n",
    "\n",
    "armatuur_extractor = ArmatuurFuser(15, armatuur_params=armatuur_params, min_cable_bending=2)"
   ]
  },
  {
   "cell_type": "code",
   "execution_count": null,
   "metadata": {},
   "outputs": [],
   "source": [
    "label_mask = armatuur_extractor.get_label_mask(points, None, label_mask, tilecode)"
   ]
  },
  {
   "cell_type": "markdown",
   "metadata": {},
   "source": [
    "**Plot Results**"
   ]
  },
  {
   "cell_type": "code",
   "execution_count": null,
   "metadata": {},
   "outputs": [],
   "source": [
    "plot_utils.plot_pointcloud_o3d(points[label_mask], np.zeros(label_mask.sum()))"
   ]
  },
  {
   "cell_type": "markdown",
   "metadata": {},
   "source": [
    "#### Batch Folder + Stats"
   ]
  },
  {
   "cell_type": "code",
   "execution_count": 25,
   "metadata": {},
   "outputs": [],
   "source": [
    "def process_file(in_file, armatuur_params, folder_path, save_output):\n",
    "        \n",
    "    tilecode = las_utils.get_tilecode_from_filename(in_file)\n",
    "    logger.info(f'Processing file {in_file}.')\n",
    "    start = time.time()\n",
    "    \n",
    "    pointcloud = las_utils.read_las(in_file)\n",
    "    points = np.vstack((pointcloud.x, pointcloud.y, pointcloud.z)).T\n",
    "    true_labels = np.zeros((len(points),), dtype='uint16')\n",
    "    true_labels[pointcloud.label > 14] = 15\n",
    "    true_labels[pointcloud.label == 12] = 12\n",
    "    true_mask = true_labels == 15\n",
    "\n",
    "    pointcloud_labelled = las_utils.read_las(folder_path+'/processed/M3_'+tilecode+'.laz')\n",
    "    labels_pred = pointcloud_labelled.label\n",
    "    mask = (labels_pred == 11)\n",
    "    mask = (true_labels == 12)\n",
    "\n",
    "    armatuur_extractor = ArmatuurFuser(15, armatuur_params=armatuur_params, min_cable_bending=2)\n",
    "    label_mask = armatuur_extractor.get_label_mask(points, None, mask, tilecode)\n",
    "    labels_pred[label_mask] = 15\n",
    "\n",
    "    duration = time.time() - start\n",
    "    stats, report = analysis_tools.get_cable_stats_m4(labels_pred, true_mask)\n",
    "    report['time'] = duration\n",
    "    report['tilecode'] = tilecode\n",
    "\n",
    "    logger.info('STATISTICS\\n' + stats)\n",
    "    logger.info(f'File processed in {duration:.2f}s.')\n",
    "\n",
    "    if save_output:\n",
    "        outpath = folder_path + '/processed/M4_' + tilecode + '.laz'\n",
    "        las_utils.label_and_save_las(pointcloud, labels_pred, outpath)\n",
    "\n",
    "    return report\n",
    "\n",
    "    "
   ]
  },
  {
   "cell_type": "code",
   "execution_count": 26,
   "metadata": {},
   "outputs": [],
   "source": [
    "def process_folder(folder_path, save_output=False):\n",
    "\n",
    "    # Parameters\n",
    "    armatuur_params = {\n",
    "        'width': (.25, 1.25),\n",
    "        'height': (.25, .6),\n",
    "        'z_offset':(0,.55),\n",
    "        'axis_offset': 0.1\n",
    "    }\n",
    "\n",
    "    results = []\n",
    "\n",
    "    for file in glob.iglob(folder_path + '/pointcloud/labelled_*.laz'):\n",
    "        report = process_file(file, armatuur_params, folder_path, save_output)\n",
    "        results.append(report)\n",
    "\n",
    "    return pd.DataFrame(results)\n",
    "\n"
   ]
  },
  {
   "cell_type": "code",
   "execution_count": 27,
   "metadata": {},
   "outputs": [
    {
     "name": "stderr",
     "output_type": "stream",
     "text": [
      "INFO - 2022-04-26 17:22:12,788 - 2304772302 - Processing file ../datasets/Lairessestraat/pointcloud/labelled_2394_9702.laz.\n",
      "INFO - 2022-04-26 17:22:16,104 - armatuur_fuser - Armatuur fuser (label=15)\n",
      "INFO - 2022-04-26 17:22:16,647 - 2304772302 - STATISTICS\n",
      "Labelled 514 / 517\n",
      "INFO - 2022-04-26 17:22:16,648 - 2304772302 - File processed in 3.81s.\n",
      "INFO - 2022-04-26 17:22:18,261 - 2304772302 - Processing file ../datasets/Lairessestraat/pointcloud/labelled_2388_9700.laz.\n",
      "INFO - 2022-04-26 17:22:22,341 - armatuur_fuser - Armatuur fuser (label=15)\n",
      "INFO - 2022-04-26 17:22:24,079 - 2304772302 - STATISTICS\n",
      "Labelled 1749 / 1749\n",
      "INFO - 2022-04-26 17:22:24,080 - 2304772302 - File processed in 5.76s.\n",
      "INFO - 2022-04-26 17:22:26,206 - 2304772302 - Processing file ../datasets/Lairessestraat/pointcloud/labelled_2389_9700.laz.\n",
      "INFO - 2022-04-26 17:22:30,615 - armatuur_fuser - Armatuur fuser (label=15)\n",
      "INFO - 2022-04-26 17:22:31,399 - 2304772302 - STATISTICS\n",
      "Labelled 427 / 427\n",
      "INFO - 2022-04-26 17:22:31,399 - 2304772302 - File processed in 5.14s.\n",
      "INFO - 2022-04-26 17:22:33,460 - 2304772302 - Processing file ../datasets/Lairessestraat/pointcloud/labelled_2391_9701.laz.\n",
      "INFO - 2022-04-26 17:22:35,452 - armatuur_fuser - Armatuur fuser (label=15)\n",
      "INFO - 2022-04-26 17:22:35,912 - 2304772302 - STATISTICS\n",
      "Labelled 258 / 259\n",
      "INFO - 2022-04-26 17:22:35,913 - 2304772302 - File processed in 2.42s.\n",
      "INFO - 2022-04-26 17:22:36,999 - 2304772302 - Processing file ../datasets/Lairessestraat/pointcloud/labelled_2386_9699.laz.\n",
      "INFO - 2022-04-26 17:22:39,643 - armatuur_fuser - Armatuur fuser (label=15)\n",
      "INFO - 2022-04-26 17:22:40,252 - 2304772302 - STATISTICS\n",
      "Labelled 727 / 877\n",
      "INFO - 2022-04-26 17:22:40,253 - 2304772302 - File processed in 3.22s.\n",
      "INFO - 2022-04-26 17:22:41,719 - 2304772302 - Processing file ../datasets/Lairessestraat/pointcloud/labelled_2387_9699.laz.\n",
      "INFO - 2022-04-26 17:22:45,669 - armatuur_fuser - Armatuur fuser (label=15)\n",
      "INFO - 2022-04-26 17:22:46,931 - 2304772302 - STATISTICS\n",
      "Labelled 1597 / 1597\n",
      "INFO - 2022-04-26 17:22:46,932 - 2304772302 - File processed in 5.16s.\n",
      "INFO - 2022-04-26 17:22:48,738 - 2304772302 - Processing file ../datasets/Lairessestraat/pointcloud/labelled_2387_9700.laz.\n",
      "INFO - 2022-04-26 17:22:55,654 - armatuur_fuser - Armatuur fuser (label=15)\n",
      "INFO - 2022-04-26 17:22:56,413 - 2304772302 - STATISTICS\n",
      "Labelled 462 / 462\n",
      "INFO - 2022-04-26 17:22:56,414 - 2304772302 - File processed in 7.60s.\n"
     ]
    }
   ],
   "source": [
    "df = process_folder('../datasets/Lairessestraat', True)"
   ]
  },
  {
   "cell_type": "code",
   "execution_count": 28,
   "metadata": {},
   "outputs": [
    {
     "data": {
      "text/html": [
       "<div>\n",
       "<style scoped>\n",
       "    .dataframe tbody tr th:only-of-type {\n",
       "        vertical-align: middle;\n",
       "    }\n",
       "\n",
       "    .dataframe tbody tr th {\n",
       "        vertical-align: top;\n",
       "    }\n",
       "\n",
       "    .dataframe thead th {\n",
       "        text-align: right;\n",
       "    }\n",
       "</style>\n",
       "<table border=\"1\" class=\"dataframe\">\n",
       "  <thead>\n",
       "    <tr style=\"text-align: right;\">\n",
       "      <th></th>\n",
       "      <th>total_pts</th>\n",
       "      <th>armatuur_pts</th>\n",
       "      <th>recall_m3</th>\n",
       "      <th>precision_m3</th>\n",
       "      <th>f1_score_m3</th>\n",
       "      <th>time</th>\n",
       "      <th>tilecode</th>\n",
       "    </tr>\n",
       "  </thead>\n",
       "  <tbody>\n",
       "    <tr>\n",
       "      <th>0</th>\n",
       "      <td>4248444</td>\n",
       "      <td>517</td>\n",
       "      <td>0.994197</td>\n",
       "      <td>1.0</td>\n",
       "      <td>0.997090</td>\n",
       "      <td>3.809476</td>\n",
       "      <td>2394_9702</td>\n",
       "    </tr>\n",
       "    <tr>\n",
       "      <th>1</th>\n",
       "      <td>5769704</td>\n",
       "      <td>1749</td>\n",
       "      <td>1.000000</td>\n",
       "      <td>1.0</td>\n",
       "      <td>1.000000</td>\n",
       "      <td>5.755863</td>\n",
       "      <td>2388_9700</td>\n",
       "    </tr>\n",
       "    <tr>\n",
       "      <th>2</th>\n",
       "      <td>4853053</td>\n",
       "      <td>427</td>\n",
       "      <td>1.000000</td>\n",
       "      <td>1.0</td>\n",
       "      <td>1.000000</td>\n",
       "      <td>5.135470</td>\n",
       "      <td>2389_9700</td>\n",
       "    </tr>\n",
       "    <tr>\n",
       "      <th>3</th>\n",
       "      <td>2194654</td>\n",
       "      <td>259</td>\n",
       "      <td>0.996139</td>\n",
       "      <td>1.0</td>\n",
       "      <td>0.998066</td>\n",
       "      <td>2.418773</td>\n",
       "      <td>2391_9701</td>\n",
       "    </tr>\n",
       "    <tr>\n",
       "      <th>4</th>\n",
       "      <td>2788759</td>\n",
       "      <td>877</td>\n",
       "      <td>0.828962</td>\n",
       "      <td>1.0</td>\n",
       "      <td>0.906484</td>\n",
       "      <td>3.217150</td>\n",
       "      <td>2386_9699</td>\n",
       "    </tr>\n",
       "    <tr>\n",
       "      <th>5</th>\n",
       "      <td>4379344</td>\n",
       "      <td>1597</td>\n",
       "      <td>1.000000</td>\n",
       "      <td>1.0</td>\n",
       "      <td>1.000000</td>\n",
       "      <td>5.157902</td>\n",
       "      <td>2387_9699</td>\n",
       "    </tr>\n",
       "    <tr>\n",
       "      <th>6</th>\n",
       "      <td>6508713</td>\n",
       "      <td>462</td>\n",
       "      <td>1.000000</td>\n",
       "      <td>1.0</td>\n",
       "      <td>1.000000</td>\n",
       "      <td>7.595182</td>\n",
       "      <td>2387_9700</td>\n",
       "    </tr>\n",
       "  </tbody>\n",
       "</table>\n",
       "</div>"
      ],
      "text/plain": [
       "   total_pts  armatuur_pts  recall_m3  precision_m3  f1_score_m3      time  \\\n",
       "0    4248444           517   0.994197           1.0     0.997090  3.809476   \n",
       "1    5769704          1749   1.000000           1.0     1.000000  5.755863   \n",
       "2    4853053           427   1.000000           1.0     1.000000  5.135470   \n",
       "3    2194654           259   0.996139           1.0     0.998066  2.418773   \n",
       "4    2788759           877   0.828962           1.0     0.906484  3.217150   \n",
       "5    4379344          1597   1.000000           1.0     1.000000  5.157902   \n",
       "6    6508713           462   1.000000           1.0     1.000000  7.595182   \n",
       "\n",
       "    tilecode  \n",
       "0  2394_9702  \n",
       "1  2388_9700  \n",
       "2  2389_9700  \n",
       "3  2391_9701  \n",
       "4  2386_9699  \n",
       "5  2387_9699  \n",
       "6  2387_9700  "
      ]
     },
     "execution_count": 28,
     "metadata": {},
     "output_type": "execute_result"
    }
   ],
   "source": [
    "df"
   ]
  },
  {
   "cell_type": "code",
   "execution_count": 29,
   "metadata": {},
   "outputs": [],
   "source": [
    "labels = las_utils.read_las('../datasets/Lairessestraat/processed/M1_2386_9699.laz').label\n",
    "\n",
    "pointcloud = las_utils.read_las('../datasets/Lairessestraat/processed/M4_2386_9699.laz')\n",
    "points = np.vstack((pointcloud.x, pointcloud.y, pointcloud.z)).T\n",
    "labels[pointcloud.label==11]=11\n",
    "labels[pointcloud.label==13]=13\n",
    "labels[pointcloud.label==15]=15\n",
    "\n",
    "plot_utils.plot_pointcloud_o3d(points, labels, exclude_labels=(1,2))"
   ]
  },
  {
   "cell_type": "code",
   "execution_count": null,
   "metadata": {},
   "outputs": [],
   "source": []
  }
 ],
 "metadata": {
  "interpreter": {
   "hash": "7366f18c254adf4309e22c54c7a399c75fae7c7cb920374cdfae4ada38c45d67"
  },
  "kernelspec": {
   "display_name": "Python 3.8.12 ('pointcloud')",
   "language": "python",
   "name": "python3"
  },
  "language_info": {
   "codemirror_mode": {
    "name": "ipython",
    "version": 3
   },
   "file_extension": ".py",
   "mimetype": "text/x-python",
   "name": "python",
   "nbconvert_exporter": "python",
   "pygments_lexer": "ipython3",
   "version": "3.8.12"
  },
  "orig_nbformat": 4
 },
 "nbformat": 4,
 "nbformat_minor": 2
}
