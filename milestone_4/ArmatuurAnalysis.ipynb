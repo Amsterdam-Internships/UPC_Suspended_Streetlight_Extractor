{
 "cells": [
  {
   "cell_type": "code",
   "execution_count": 1,
   "metadata": {},
   "outputs": [],
   "source": [
    "# Add project src to path.\n",
    "import set_path\n",
    "import glob\n",
    "\n",
    "# Import modules.\n",
    "import numpy as np\n",
    "import time\n",
    "import logging\n",
    "from tqdm import tqdm\n",
    "\n",
    "# Visulatisation\n",
    "%matplotlib widget\n",
    "import matplotlib.pyplot as plt\n",
    "\n",
    "import set_path\n",
    "import src.utils.ahn_utils as ahn_utils\n",
    "import src.utils.las_utils as las_utils\n",
    "import src.utils.plot_utils as plot_utils\n",
    "import src.utils.clip_utils as clip_utils\n",
    "import src.utils.math_utils as math_utils\n",
    "import src.utils.bgt_utils as bgt_utils\n",
    "\n",
    "from src.utils.interpolation import FastGridInterpolator\n",
    "\n",
    "from pyntcloud import PyntCloud\n",
    "import pandas as pd\n",
    "from skimage import feature\n",
    "from scipy import ndimage\n",
    "import cv2 as cv\n",
    "import pyransac3d as pyrsc\n",
    "\n",
    "import open3d as o3d\n",
    "from shapely.geometry import LineString\n",
    "import shapely \n",
    "from scipy.optimize import curve_fit\n",
    "import scipy.spatial\n",
    "\n",
    "from multiprocessing import Pool\n",
    "from sklearn.cluster import DBSCAN\n",
    "\n",
    "from skimage.transform import probabilistic_hough_line, hough_line, hough_line_peaks"
   ]
  },
  {
   "cell_type": "code",
   "execution_count": 2,
   "metadata": {},
   "outputs": [],
   "source": [
    "def plot_cloud(points, labels, plot_3d=True):\n",
    "\n",
    "    fig = plt.figure()\n",
    "    if plot_3d:\n",
    "        ax = plt.axes(projection='3d')\n",
    "        for label in np.unique(labels):\n",
    "            mask = labels == label\n",
    "            ax.scatter(points[mask][:,0],points[mask][:,1],points[mask][:,2], s=2, label=str(label))\n",
    "    else:\n",
    "        ax = plt.axes()\n",
    "        for label in np.unique(labels):\n",
    "            mask = labels == label\n",
    "            ax.scatter(points[mask][:,0],points[mask][:,1], s=1,label=str(label))\n",
    "    plt.legend()\n",
    "    plt.show()"
   ]
  },
  {
   "cell_type": "code",
   "execution_count": 4,
   "metadata": {},
   "outputs": [
    {
     "name": "stdout",
     "output_type": "stream",
     "text": [
      "Processing file ../datasets/Demo/pointcloud/processed_2386_9702.laz\n",
      "Processing file ../datasets/Demo/pointcloud/processed_2397_9705.laz\n",
      "Processing file ../datasets/NieuweKerkstraat/pointcloud/processed_2442_9726.laz\n",
      "Processing file ../datasets/NieuweKerkstraat/pointcloud/processed_2441_9726.laz\n",
      "Processing file ../datasets/Valeriusplein/pointcloud/processed_2386_9699.laz\n",
      "Processing file ../datasets/Valeriusplein/pointcloud/processed_2387_9699.laz\n",
      "Processing file ../datasets/Valeriusplein/pointcloud/processed_2387_9700.laz\n",
      "Processing file ../datasets/Kattenslootbrug/pointcloud/processed_2408_9765.laz\n",
      "Processing file ../datasets/Kattenslootbrug/pointcloud/processed_2408_9766.laz\n",
      "Processing file ../datasets/Kattenslootbrug/pointcloud/processed_2408_9767.laz\n",
      "Processing file ../datasets/Kattenslootbrug/pointcloud/processed_2407_9765.laz\n",
      "Processing file ../datasets/Kattenslootbrug/pointcloud/processed_2407_9766.laz\n",
      "Processing file ../datasets/Kattenslootbrug/pointcloud/processed_2407_9767.laz\n"
     ]
    }
   ],
   "source": [
    "lamp_dimensions = []\n",
    "\n",
    "for las_file in glob.iglob('../datasets/*/pointcloud/processed_*.laz'):\n",
    "    print('Processing file', las_file)\n",
    "\n",
    "    pointcloud = las_utils.read_las(las_file)\n",
    "    true_labels = pointcloud.label\n",
    "    points = np.vstack((pointcloud.x, pointcloud.y, pointcloud.z)).T\n",
    "    labels = np.zeros(len(points))\n",
    "\n",
    "    lamp_mask = true_labels == 14\n",
    "    if lamp_mask.sum() > 4:\n",
    "        clustering = (DBSCAN(eps=1, min_samples=4, p=2).fit(points[lamp_mask]))\n",
    "        for cluster in np.unique(clustering.labels_):\n",
    "            c_mask = clustering.labels_ == cluster\n",
    "            cl_pts = points[lamp_mask][c_mask]\n",
    "\n",
    "            cl_height = cl_pts[:,2].max() - cl_pts[:,2].min()\n",
    "            min_bounding_rect, hull_points, min_dims, max_dims, center_point = math_utils.minimum_bounding_rectangle(cl_pts[:,:2])\n",
    "            lamp_dimensions.append([round(min_dims,2), round(max_dims,2), round(cl_height,2)])\n",
    "\n",
    "            #print(f'\\tCluster {cluster}: {center_point} ({round(min_dims,2)}m x {round(max_dims,2)}m x {round(cl_height,2)}m)')\n",
    "\n",
    "ld = np.array(lamp_dimensions)"
   ]
  },
  {
   "cell_type": "code",
   "execution_count": 5,
   "metadata": {},
   "outputs": [
    {
     "data": {
      "application/vnd.jupyter.widget-view+json": {
       "model_id": "a8e56025372a48a2b98fc8633fde1387",
       "version_major": 2,
       "version_minor": 0
      },
      "text/plain": [
       "Canvas(toolbar=Toolbar(toolitems=[('Home', 'Reset original view', 'home', 'home'), ('Back', 'Back to previous …"
      ]
     },
     "metadata": {},
     "output_type": "display_data"
    },
    {
     "data": {
      "text/plain": [
       "(0.52, 0.27, 0.85, 0.46)"
      ]
     },
     "execution_count": 5,
     "metadata": {},
     "output_type": "execute_result"
    }
   ],
   "source": [
    "bbox = math_utils.compute_bounding_box(ld[:,1:])\n",
    "\n",
    "fig = plt.figure()\n",
    "ax = plt.axes()\n",
    "ax.scatter(ld[:,1],ld[:,2], s=2, c='r')\n",
    "ax.plot([bbox[0],bbox[2],bbox[2],bbox[0],bbox[0]],[bbox[1],bbox[1],bbox[3],bbox[3], bbox[1]], c='k', alpha=0.5)\n",
    "ax.plot([bbox[0]-0.05,bbox[2]+0.05,bbox[2]+0.05,bbox[0]-0.05,bbox[0]-0.05],[bbox[1]-0.05,bbox[1]-0.05,bbox[3]+0.05,bbox[3]+0.05, bbox[1]-0.05], linestyle='--', c='k')\n",
    "ax.set_title('Armatuur Dimensions')\n",
    "ax.set_xlim((0,1))\n",
    "ax.set_ylim((0,1))\n",
    "ax.set_ylabel('Height (m)')\n",
    "ax.set_xlabel('Width (m)')\n",
    "\n",
    "math_utils.compute_bounding_box(ld[:,1:])"
   ]
  },
  {
   "cell_type": "code",
   "execution_count": 8,
   "metadata": {},
   "outputs": [
    {
     "data": {
      "text/plain": [
       "array([0.68, 0.85, 0.46])"
      ]
     },
     "execution_count": 8,
     "metadata": {},
     "output_type": "execute_result"
    }
   ],
   "source": [
    "ld.max(axis=0)"
   ]
  },
  {
   "cell_type": "code",
   "execution_count": null,
   "metadata": {},
   "outputs": [],
   "source": []
  }
 ],
 "metadata": {
  "interpreter": {
   "hash": "631806e10756e17fc0fd7ada305726dc7821d90278ba721d2afe07aa2cf1effd"
  },
  "kernelspec": {
   "display_name": "Python 3.9.9 ('.point_cloud': venv)",
   "language": "python",
   "name": "python3"
  },
  "language_info": {
   "codemirror_mode": {
    "name": "ipython",
    "version": 3
   },
   "file_extension": ".py",
   "mimetype": "text/x-python",
   "name": "python",
   "nbconvert_exporter": "python",
   "pygments_lexer": "ipython3",
   "version": "3.9.9"
  },
  "orig_nbformat": 4
 },
 "nbformat": 4,
 "nbformat_minor": 2
}
