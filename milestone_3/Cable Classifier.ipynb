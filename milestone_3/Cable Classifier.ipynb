{
 "cells": [
  {
   "cell_type": "code",
   "execution_count": 3,
   "metadata": {},
   "outputs": [],
   "source": [
    "# Add project src to path.\n",
    "import set_path\n",
    "\n",
    "# Import modules.\n",
    "import numpy as np\n",
    "from tqdm import tqdm\n",
    "import logging\n",
    "import pandas as pd\n",
    "import time\n",
    "import glob\n",
    "\n",
    "import set_path\n",
    "import src.utils.ahn_utils as ahn_utils\n",
    "import src.utils.las_utils as las_utils\n",
    "import src.utils.log_utils as log_utils\n",
    "import src.utils.plot_utils as plot_utils\n",
    "import src.utils.bgt_utils as bgt_utils\n",
    "import src.analysis.analysis_tools as analysis_tools\n",
    "\n",
    "log_utils.reset_logger()\n",
    "log_utils.add_console_logger(level=logging.DEBUG)\n",
    "\n",
    "logger = logging.getLogger(__name__)\n",
    "\n",
    "from tramtrack_fuser import TramTrackFuser"
   ]
  },
  {
   "cell_type": "code",
   "execution_count": 2,
   "metadata": {},
   "outputs": [],
   "source": [
    "# Load data.\n",
    "tilecode = '2387_9699'\n",
    "\n",
    "# Labelled LAS file (see Notebook 0).\n",
    "las_file = '../datasets/Lairessestraat/pointcloud/labelled_' + tilecode + '.laz'\n",
    "reduced_las_file = '../datasets/Lairessestraat/processed/M2_' + tilecode + '.laz'\n",
    "\n",
    "# AHN data folder.\n",
    "ahn_data_folder = '../datasets/Lairessestraat/ahn/'\n",
    "# File with tram tracks linestrings.\n",
    "bgt_tram_track_file = '../datasets/Lairessestraat/bgt/bgt_tram_tracks.csv'\n",
    "\n",
    "# AHNReader for elevation data.\n",
    "ahn_reader = ahn_utils.NPZReader(ahn_data_folder)\n",
    "\n",
    "# BGTReader\n",
    "bgt_tramtrack_reader = bgt_utils.BGTLineReader(bgt_file=bgt_tram_track_file)"
   ]
  },
  {
   "cell_type": "code",
   "execution_count": 3,
   "metadata": {},
   "outputs": [
    {
     "data": {
      "image/png": "[encoded data removed]",
      "text/plain": [
       "<Figure size 504x360 with 1 Axes>"
      ]
     },
     "metadata": {
      "needs_background": "light"
     },
     "output_type": "display_data"
    }
   ],
   "source": [
    "plot_utils.plot_bgt(tilecode, tram_file=bgt_tram_track_file)"
   ]
  },
  {
   "cell_type": "code",
   "execution_count": 5,
   "metadata": {},
   "outputs": [],
   "source": [
    "# Load pointcloud\n",
    "pointcloud = las_utils.read_las(las_file)\n",
    "labels = pointcloud.label\n",
    "points = np.vstack((pointcloud.x, pointcloud.y, pointcloud.z)).T\n",
    "pc_colors =  np.vstack((pointcloud.red, pointcloud.blue, pointcloud.green)).T\n",
    "pc_colors = pc_colors[labels != 0]\n",
    "points = points[labels != 0]\n",
    "labels = labels[labels != 0]\n",
    "mask = labels != 15"
   ]
  },
  {
   "cell_type": "code",
   "execution_count": 4,
   "metadata": {},
   "outputs": [],
   "source": [
    "# Car fuser using a clustering algorithm and BGT road data.\n",
    "tramcable_fuser = TramTrackFuser(13, ahn_reader, bgt_reader=bgt_tramtrack_reader)"
   ]
  },
  {
   "cell_type": "code",
   "execution_count": 6,
   "metadata": {},
   "outputs": [
    {
     "name": "stderr",
     "output_type": "stream",
     "text": [
      "INFO - 2022-04-19 13:12:28,530 - tramtrack_fuser - Tramtrack fuser (label=13\n"
     ]
    }
   ],
   "source": [
    "label_mask = tramcable_fuser.get_label_mask(points, labels, mask, tilecode)"
   ]
  },
  {
   "cell_type": "code",
   "execution_count": 12,
   "metadata": {},
   "outputs": [],
   "source": [
    "plot_utils.plot_pointcloud_o3d(points, label_mask, exclude_labels=())"
   ]
  },
  {
   "cell_type": "markdown",
   "metadata": {},
   "source": [
    "#### Batch Folder + Stats"
   ]
  },
  {
   "cell_type": "code",
   "execution_count": 48,
   "metadata": {},
   "outputs": [],
   "source": [
    "def process_file(in_file, ahn_reader, bgt_tramtrack_reader, folder_path, save_output):\n",
    "        \n",
    "    tilecode = las_utils.get_tilecode_from_filename(in_file)\n",
    "    logger.info(f'Processing file {in_file}.')\n",
    "    start = time.time()\n",
    "    \n",
    "    pointcloud = las_utils.read_las(in_file)\n",
    "    points = np.vstack((pointcloud.x, pointcloud.y, pointcloud.z)).T\n",
    "    true_labels = pointcloud.label\n",
    "    true_labels[(12 < pointcloud.label) & (pointcloud.label < 15)] = 13\n",
    "    true_labels[pointcloud.label == 12] = 11\n",
    "    true_labels[pointcloud.label > 14] = 15\n",
    "    true_mask = true_labels == 11\n",
    "\n",
    "    pointcloud_labelled = las_utils.read_las(folder_path+'/processed/M2_'+tilecode+'.laz')\n",
    "    labels_pred = pointcloud_labelled.label\n",
    "    mask = (labels_pred == 11)\n",
    "\n",
    "    tramcable_fuser = TramTrackFuser(13, ahn_reader, bgt_reader=bgt_tramtrack_reader)\n",
    "    label_mask = tramcable_fuser.get_label_mask(points, None, mask, tilecode)\n",
    "    labels_pred[label_mask] = 13\n",
    "    labels_pred[(mask & ~label_mask)] = 11\n",
    "\n",
    "    duration = time.time() - start\n",
    "    stats, report = analysis_tools.get_cable_stats_m3(labels_pred, true_mask, mask)\n",
    "    report['time'] = duration\n",
    "    report['tilecode'] = tilecode\n",
    "\n",
    "    logger.info('STATISTICS\\n' + stats)\n",
    "    logger.info(f'File processed in {duration:.2f}s.')\n",
    "\n",
    "    if save_output:\n",
    "        outpath = folder_path + '/processed/M3_' + tilecode + '.laz'\n",
    "        las_utils.label_and_save_las(pointcloud, labels_pred, outpath)\n",
    "\n",
    "    return report\n",
    "\n",
    "    "
   ]
  },
  {
   "cell_type": "code",
   "execution_count": 44,
   "metadata": {},
   "outputs": [],
   "source": [
    "def process_folder(folder_path, save_output=False):\n",
    "\n",
    "    # BGT\n",
    "    bgt_tram_track_file = folder_path + '/bgt/bgt_tram_tracks.csv'\n",
    "    bgt_tramtrack_reader = bgt_utils.BGTLineReader(bgt_file=bgt_tram_track_file)\n",
    "\n",
    "    # AHNReader for elevation data.\n",
    "    ahn_data_folder = folder_path + '/ahn/'\n",
    "    ahn_reader = ahn_utils.NPZReader(ahn_data_folder)\n",
    "\n",
    "    results = []\n",
    "\n",
    "    for file in glob.iglob(folder_path + '/pointcloud/labelled_*.laz'):\n",
    "        report = process_file(file, ahn_reader, bgt_tramtrack_reader, folder_path, save_output)\n",
    "        results.append(report)\n",
    "\n",
    "    return pd.DataFrame(results)\n",
    "\n"
   ]
  },
  {
   "cell_type": "code",
   "execution_count": 49,
   "metadata": {},
   "outputs": [
    {
     "name": "stdout",
     "output_type": "stream",
     "text": [
      "DEBUG - Caching enabled.\n"
     ]
    },
    {
     "name": "stderr",
     "output_type": "stream",
     "text": [
      "INFO - 2022-04-26 13:52:24,945 - 3254148274 - Processing file ../datasets/Lairessestraat/pointcloud/labelled_2394_9702.laz.\n",
      "INFO - 2022-04-26 13:52:28,611 - tramtrack_fuser - Tramtrack fuser (label=13)\n",
      "INFO - 2022-04-26 13:52:28,900 - 3254148274 - STATISTICS\n",
      "Reduced:       8769 -->       1154 points\n",
      "\tLost:     145 /     779  cable points\n",
      "\tMisclassified:     520 /     779  cable points\n",
      "\n",
      "INFO - 2022-04-26 13:52:28,901 - 3254148274 - File processed in 3.84s.\n",
      "INFO - 2022-04-26 13:52:30,593 - 3254148274 - Processing file ../datasets/Lairessestraat/pointcloud/labelled_2388_9700.laz.\n",
      "INFO - 2022-04-26 13:52:35,956 - tramtrack_fuser - Tramtrack fuser (label=13)\n",
      "INFO - 2022-04-26 13:52:36,512 - 3254148274 - STATISTICS\n",
      "Reduced:      21017 -->       3248 points\n",
      "\tLost:     174 /    3316  cable points\n",
      "\tMisclassified:     106 /    3316  cable points\n",
      "\n",
      "INFO - 2022-04-26 13:52:36,513 - 3254148274 - File processed in 5.77s.\n",
      "INFO - 2022-04-26 13:52:38,576 - 3254148274 - Processing file ../datasets/Lairessestraat/pointcloud/labelled_2389_9700.laz.\n",
      "INFO - 2022-04-26 13:52:42,971 - tramtrack_fuser - Tramtrack fuser (label=13)\n",
      "INFO - 2022-04-26 13:52:43,373 - 3254148274 - STATISTICS\n",
      "Reduced:      12624 -->        914 points\n",
      "\tLost:      96 /     932  cable points\n",
      "\tMisclassified:      78 /     932  cable points\n",
      "\n",
      "INFO - 2022-04-26 13:52:43,374 - 3254148274 - File processed in 4.66s.\n",
      "INFO - 2022-04-26 13:52:45,868 - 3254148274 - Processing file ../datasets/Lairessestraat/pointcloud/labelled_2391_9701.laz.\n",
      "INFO - 2022-04-26 13:52:47,774 - tramtrack_fuser - Tramtrack fuser (label=13)\n",
      "INFO - 2022-04-26 13:52:47,949 - 3254148274 - STATISTICS\n",
      "Reduced:       4992 -->        601 points\n",
      "\tLost:      36 /     613  cable points\n",
      "\tMisclassified:      24 /     613  cable points\n",
      "\n",
      "INFO - 2022-04-26 13:52:47,950 - 3254148274 - File processed in 2.02s.\n",
      "INFO - 2022-04-26 13:52:48,878 - 3254148274 - Processing file ../datasets/Lairessestraat/pointcloud/labelled_2386_9699.laz.\n",
      "INFO - 2022-04-26 13:52:52,295 - tramtrack_fuser - Tramtrack fuser (label=13)\n",
      "INFO - 2022-04-26 13:52:52,581 - 3254148274 - STATISTICS\n",
      "Reduced:       7449 -->       1395 points\n",
      "\tLost:      93 /    1476  cable points\n",
      "\tMisclassified:      12 /    1476  cable points\n",
      "\n",
      "INFO - 2022-04-26 13:52:52,582 - 3254148274 - File processed in 3.61s.\n",
      "INFO - 2022-04-26 13:52:53,768 - 3254148274 - Processing file ../datasets/Lairessestraat/pointcloud/labelled_2387_9699.laz.\n",
      "INFO - 2022-04-26 13:52:57,989 - tramtrack_fuser - Tramtrack fuser (label=13)\n",
      "INFO - 2022-04-26 13:52:58,744 - 3254148274 - STATISTICS\n",
      "Reduced:      23011 -->       4164 points\n",
      "\tLost:     829 /    4051  cable points\n",
      "\tMisclassified:     942 /    4051  cable points\n",
      "\n",
      "INFO - 2022-04-26 13:52:58,745 - 3254148274 - File processed in 4.85s.\n",
      "INFO - 2022-04-26 13:53:01,391 - 3254148274 - Processing file ../datasets/Lairessestraat/pointcloud/labelled_2387_9700.laz.\n",
      "INFO - 2022-04-26 13:53:08,201 - tramtrack_fuser - Tramtrack fuser (label=13)\n",
      "INFO - 2022-04-26 13:53:08,625 - 3254148274 - STATISTICS\n",
      "Reduced:       4253 -->       1611 points\n",
      "\tLost:      37 /    1482  cable points\n",
      "\tMisclassified:     166 /    1482  cable points\n",
      "\n",
      "INFO - 2022-04-26 13:53:08,626 - 3254148274 - File processed in 7.04s.\n"
     ]
    }
   ],
   "source": [
    "df = process_folder('../datasets/Lairessestraat', True)"
   ]
  },
  {
   "cell_type": "code",
   "execution_count": 50,
   "metadata": {},
   "outputs": [
    {
     "data": {
      "text/html": [
       "<div>\n",
       "<style scoped>\n",
       "    .dataframe tbody tr th:only-of-type {\n",
       "        vertical-align: middle;\n",
       "    }\n",
       "\n",
       "    .dataframe tbody tr th {\n",
       "        vertical-align: top;\n",
       "    }\n",
       "\n",
       "    .dataframe thead th {\n",
       "        text-align: right;\n",
       "    }\n",
       "</style>\n",
       "<table border=\"1\" class=\"dataframe\">\n",
       "  <thead>\n",
       "    <tr style=\"text-align: right;\">\n",
       "      <th></th>\n",
       "      <th>total_pts</th>\n",
       "      <th>cable_pts</th>\n",
       "      <th>start_pts</th>\n",
       "      <th>end_pts</th>\n",
       "      <th>reduce_per</th>\n",
       "      <th>start_cable_pts</th>\n",
       "      <th>recall_m3</th>\n",
       "      <th>precision_m3</th>\n",
       "      <th>f1_score_m3</th>\n",
       "      <th>time</th>\n",
       "      <th>tilecode</th>\n",
       "    </tr>\n",
       "  </thead>\n",
       "  <tbody>\n",
       "    <tr>\n",
       "      <th>0</th>\n",
       "      <td>4248444</td>\n",
       "      <td>779</td>\n",
       "      <td>8769</td>\n",
       "      <td>1154</td>\n",
       "      <td>0.87</td>\n",
       "      <td>634</td>\n",
       "      <td>1.0</td>\n",
       "      <td>0.549393</td>\n",
       "      <td>0.709172</td>\n",
       "      <td>3.844464</td>\n",
       "      <td>2394_9702</td>\n",
       "    </tr>\n",
       "    <tr>\n",
       "      <th>1</th>\n",
       "      <td>5769704</td>\n",
       "      <td>3316</td>\n",
       "      <td>21017</td>\n",
       "      <td>3248</td>\n",
       "      <td>0.85</td>\n",
       "      <td>3142</td>\n",
       "      <td>1.0</td>\n",
       "      <td>0.967365</td>\n",
       "      <td>0.983412</td>\n",
       "      <td>5.773891</td>\n",
       "      <td>2388_9700</td>\n",
       "    </tr>\n",
       "    <tr>\n",
       "      <th>2</th>\n",
       "      <td>4853053</td>\n",
       "      <td>932</td>\n",
       "      <td>12624</td>\n",
       "      <td>914</td>\n",
       "      <td>0.93</td>\n",
       "      <td>836</td>\n",
       "      <td>1.0</td>\n",
       "      <td>0.914661</td>\n",
       "      <td>0.955429</td>\n",
       "      <td>4.663352</td>\n",
       "      <td>2389_9700</td>\n",
       "    </tr>\n",
       "    <tr>\n",
       "      <th>3</th>\n",
       "      <td>2194654</td>\n",
       "      <td>613</td>\n",
       "      <td>4992</td>\n",
       "      <td>601</td>\n",
       "      <td>0.88</td>\n",
       "      <td>577</td>\n",
       "      <td>1.0</td>\n",
       "      <td>0.960067</td>\n",
       "      <td>0.979626</td>\n",
       "      <td>2.024100</td>\n",
       "      <td>2391_9701</td>\n",
       "    </tr>\n",
       "    <tr>\n",
       "      <th>4</th>\n",
       "      <td>2788759</td>\n",
       "      <td>1476</td>\n",
       "      <td>7449</td>\n",
       "      <td>1395</td>\n",
       "      <td>0.81</td>\n",
       "      <td>1383</td>\n",
       "      <td>1.0</td>\n",
       "      <td>0.991398</td>\n",
       "      <td>0.995680</td>\n",
       "      <td>3.614050</td>\n",
       "      <td>2386_9699</td>\n",
       "    </tr>\n",
       "    <tr>\n",
       "      <th>5</th>\n",
       "      <td>4379344</td>\n",
       "      <td>4051</td>\n",
       "      <td>23011</td>\n",
       "      <td>4164</td>\n",
       "      <td>0.82</td>\n",
       "      <td>3222</td>\n",
       "      <td>1.0</td>\n",
       "      <td>0.773775</td>\n",
       "      <td>0.872461</td>\n",
       "      <td>4.848273</td>\n",
       "      <td>2387_9699</td>\n",
       "    </tr>\n",
       "    <tr>\n",
       "      <th>6</th>\n",
       "      <td>6508713</td>\n",
       "      <td>1482</td>\n",
       "      <td>4253</td>\n",
       "      <td>1611</td>\n",
       "      <td>0.62</td>\n",
       "      <td>1445</td>\n",
       "      <td>1.0</td>\n",
       "      <td>0.896958</td>\n",
       "      <td>0.945681</td>\n",
       "      <td>7.038308</td>\n",
       "      <td>2387_9700</td>\n",
       "    </tr>\n",
       "  </tbody>\n",
       "</table>\n",
       "</div>"
      ],
      "text/plain": [
       "   total_pts  cable_pts  start_pts  end_pts  reduce_per  start_cable_pts  \\\n",
       "0    4248444        779       8769     1154        0.87              634   \n",
       "1    5769704       3316      21017     3248        0.85             3142   \n",
       "2    4853053        932      12624      914        0.93              836   \n",
       "3    2194654        613       4992      601        0.88              577   \n",
       "4    2788759       1476       7449     1395        0.81             1383   \n",
       "5    4379344       4051      23011     4164        0.82             3222   \n",
       "6    6508713       1482       4253     1611        0.62             1445   \n",
       "\n",
       "   recall_m3  precision_m3  f1_score_m3      time   tilecode  \n",
       "0        1.0      0.549393     0.709172  3.844464  2394_9702  \n",
       "1        1.0      0.967365     0.983412  5.773891  2388_9700  \n",
       "2        1.0      0.914661     0.955429  4.663352  2389_9700  \n",
       "3        1.0      0.960067     0.979626  2.024100  2391_9701  \n",
       "4        1.0      0.991398     0.995680  3.614050  2386_9699  \n",
       "5        1.0      0.773775     0.872461  4.848273  2387_9699  \n",
       "6        1.0      0.896958     0.945681  7.038308  2387_9700  "
      ]
     },
     "execution_count": 50,
     "metadata": {},
     "output_type": "execute_result"
    }
   ],
   "source": [
    "df"
   ]
  },
  {
   "cell_type": "code",
   "execution_count": 47,
   "metadata": {},
   "outputs": [],
   "source": [
    "labels = las_utils.read_las('../datasets/Lairessestraat/processed/M1_2386_9699.laz').label\n",
    "\n",
    "pointcloud = las_utils.read_las('../datasets/Lairessestraat/processed/M3_2386_9699.laz')\n",
    "points = np.vstack((pointcloud.x, pointcloud.y, pointcloud.z)).T\n",
    "labels[pointcloud.label==11]=11\n",
    "labels[pointcloud.label==13]=13\n",
    "\n",
    "plot_utils.plot_pointcloud_o3d(points, labels)"
   ]
  },
  {
   "cell_type": "code",
   "execution_count": null,
   "metadata": {},
   "outputs": [],
   "source": []
  }
 ],
 "metadata": {
  "interpreter": {
   "hash": "631806e10756e17fc0fd7ada305726dc7821d90278ba721d2afe07aa2cf1effd"
  },
  "kernelspec": {
   "display_name": "Python 3.9.9 ('.point_cloud': venv)",
   "language": "python",
   "name": "python3"
  },
  "language_info": {
   "codemirror_mode": {
    "name": "ipython",
    "version": 3
   },
   "file_extension": ".py",
   "mimetype": "text/x-python",
   "name": "python",
   "nbconvert_exporter": "python",
   "pygments_lexer": "ipython3",
   "version": "3.8.12"
  },
  "orig_nbformat": 4
 },
 "nbformat": 4,
 "nbformat_minor": 2
}
