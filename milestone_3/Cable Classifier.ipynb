{
 "cells": [
  {
   "cell_type": "code",
   "execution_count": 127,
   "metadata": {},
   "outputs": [],
   "source": [
    "# Add project src to path.\n",
    "import set_path\n",
    "\n",
    "# Import modules.\n",
    "import numpy as np\n",
    "import time\n",
    "import logging\n",
    "from tqdm import tqdm\n",
    "\n",
    "# Visulatisation\n",
    "%matplotlib widget\n",
    "import matplotlib.pyplot as plt\n",
    "\n",
    "import set_path\n",
    "import src.utils.ahn_utils as ahn_utils\n",
    "import src.utils.las_utils as las_utils\n",
    "import src.utils.plot_utils as plot_utils\n",
    "import src.utils.clip_utils as clip_utils\n",
    "import src.utils.math_utils as math_utils\n",
    "import src.utils.bgt_utils as bgt_utils\n",
    "\n",
    "from src.utils.interpolation import FastGridInterpolator\n",
    "\n",
    "from pyntcloud import PyntCloud\n",
    "import pandas as pd\n",
    "from skimage import feature\n",
    "from scipy import ndimage\n",
    "import cv2 as cv\n",
    "import pyransac3d as pyrsc\n",
    "\n",
    "import open3d as o3d\n",
    "from shapely.geometry import LineString\n",
    "import shapely \n",
    "from scipy.optimize import curve_fit\n",
    "import scipy.spatial\n",
    "\n",
    "from multiprocessing import Pool\n",
    "from sklearn.cluster import DBSCAN\n",
    "\n",
    "from skimage.transform import probabilistic_hough_line, hough_line, hough_line_peaks"
   ]
  },
  {
   "cell_type": "code",
   "execution_count": 164,
   "metadata": {},
   "outputs": [],
   "source": [
    "# Load data.\n",
    "tilecode = '2387_9700'\n",
    "\n",
    "# Labelled LAS file (see Notebook 0).\n",
    "las_file = '../datasets/Valeriusplein/pointcloud/processed_' + tilecode + '.laz'\n",
    "reduced_las_file = '../datasets/Valeriusplein/pointcloud/M2_' + tilecode + '.laz'\n",
    "\n",
    "# AHN data folder.\n",
    "ahn_data_folder = '../datasets/Valeriusplein/ahn/'\n",
    "# File with BGT building polygons.\n",
    "bgt_building_file = '../datasets/Valeriusplein/bgt/bgt_buildings.csv'\n",
    "# File with BGT road polygons.\n",
    "bgt_road_file = '../datasets/Valeriusplein/bgt/bgt_roads.csv'\n",
    "# File with <x,y> coordinates of pole-like objects.\n",
    "bgt_pole_file = '../datasets/Valeriusplein/bgt/custom_poles.csv'\n",
    "# File with <x,y> coordinates of street furniture objects.\n",
    "bgt_street_furniture_file = '../datasets/Valeriusplein/bgt/bgt_street_furniture.csv'\n",
    "# File with tram tracks linestrings.\n",
    "bgt_tram_track_file = '../datasets/Valeriusplein/bgt/bgt_tram_tracks.csv'\n",
    "\n",
    "# AHNReader for elevation data.\n",
    "ahn_reader = ahn_utils.NPZReader(ahn_data_folder)"
   ]
  },
  {
   "cell_type": "code",
   "execution_count": 169,
   "metadata": {},
   "outputs": [
    {
     "data": {
      "application/vnd.jupyter.widget-view+json": {
       "model_id": "37a3777d8d4d43a589ec16ec8750b4e6",
       "version_major": 2,
       "version_minor": 0
      },
      "text/plain": [
       "Canvas(toolbar=Toolbar(toolitems=[('Home', 'Reset original view', 'home', 'home'), ('Back', 'Back to previous …"
      ]
     },
     "metadata": {},
     "output_type": "display_data"
    }
   ],
   "source": [
    "plot_utils.plot_bgt(tilecode, bgt_building_file, bgt_road_file, bgt_pole_file, bgt_street_furniture_file, bgt_tram_track_file)"
   ]
  },
  {
   "cell_type": "code",
   "execution_count": 165,
   "metadata": {},
   "outputs": [],
   "source": [
    "# true pointcloud\n",
    "labeled_pointcloud = las_utils.read_las(las_file)\n",
    "true_labels = labeled_pointcloud.label\n",
    "\n",
    "# processed pointcloud\n",
    "pointcloud = las_utils.read_las(reduced_las_file)\n",
    "points = np.vstack((pointcloud.x, pointcloud.y, pointcloud.z)).T\n",
    "labels = pointcloud.label\n",
    "\n",
    "# mask for cable points\n",
    "mask = np.where(labels == 11)[0]"
   ]
  },
  {
   "cell_type": "code",
   "execution_count": 95,
   "metadata": {},
   "outputs": [],
   "source": [
    "def plot_clusters(points, clusters_labels, tilecode, exclude_clusters=(), plot_3d=True, tram_tracks=None, padding=2.5):\n",
    "    clusters = set(clusters_labels).difference(exclude_clusters)\n",
    "    fig = plt.figure()\n",
    "\n",
    "    if plot_3d:\n",
    "        ax = plt.axes(projection='3d')\n",
    "        for cluster in clusters:\n",
    "            c_mask = clusters_labels == cluster\n",
    "            ax.scatter(points[c_mask][:,0],points[c_mask][:,1],points[c_mask][:,2], s=2, label=str(cluster))\n",
    "    else:\n",
    "        ax = plt.axes()\n",
    "        for cluster in clusters:\n",
    "            c_mask = clusters_labels == cluster\n",
    "            ax.scatter(points[c_mask][:,0],points[c_mask][:,1], s=1,label=str(cluster))\n",
    "            \n",
    "    plt.legend()\n",
    "    plt.show()"
   ]
  },
  {
   "cell_type": "code",
   "execution_count": 186,
   "metadata": {},
   "outputs": [],
   "source": [
    "def tramtrack_polygon(tilecode, bgt_tram_track_file):\n",
    "\n",
    "    # Read tram tracks\n",
    "    tram_tracks = bgt_utils.get_linestrings(bgt_tram_track_file, tilecode, padding=10)    \n",
    "    \n",
    "    # Read tile bbox\n",
    "    bbox = las_utils.get_bbox_from_tile_code(tilecode)\n",
    "    tile_poly = shapely.geometry.Polygon([bbox[0],(bbox[0][0]+50, bbox[0][1]), bbox[1],(bbox[0][0], bbox[0][1]-50)])\n",
    "\n",
    "    # Create tramtrack polygon\n",
    "    tramtracks_poly = shapely.geometry.Polygon()\n",
    "    for track in tram_tracks:\n",
    "        if tile_poly.intersects(track):\n",
    "            track_in_tile = tile_poly.intersection(track)\n",
    "            tramtracks_poly = tramtracks_poly.union(track_in_tile)\n",
    "\n",
    "    # Grow and erode tramtrack polygon\n",
    "    tramtracks_poly = tramtracks_poly.buffer(2.5).buffer(-1).intersection(tile_poly)\n",
    "    return tramtracks_poly"
   ]
  },
  {
   "cell_type": "code",
   "execution_count": 189,
   "metadata": {},
   "outputs": [],
   "source": [
    "def cable_classification(points, mask, plot=True):\n",
    "\n",
    "    # AHN ground interpolation\n",
    "    ahn_tile = ahn_reader.filter_tile(tilecode)\n",
    "    values = ahn_tile['ground_surface']\n",
    "    fast_z = FastGridInterpolator(ahn_tile['x'], ahn_tile['y'], values)\n",
    "\n",
    "    # Tramtrack area polygon\n",
    "    tramtracks_poly = tramtrack_polygon(tilecode, bgt_tram_track_file)\n",
    "\n",
    "    # Cluster cable points\n",
    "    clustering = (DBSCAN(eps=1, min_samples=4, p=2).fit(points[mask]))\n",
    "    #plot_clusters(points[mask], clustering.labels_, tilecode, plot_3d=True)\n",
    "\n",
    "    # Calculate cable height\n",
    "    cable_labels = np.zeros(len(mask))\n",
    "    for cc in set(clustering.labels_):\n",
    "        cc_mask = clustering.labels_ == cc\n",
    "        cc_pts = points[mask][cc_mask]\n",
    "\n",
    "        # A: cable location\n",
    "        cbbox = math_utils.compute_bounding_box(cc_pts[:,:2])\n",
    "        cable_poly = shapely.geometry.Polygon([cbbox[:2], (cbbox[0], cbbox[3]), cbbox[2:], (cbbox[2], cbbox[1])])\n",
    "\n",
    "        # cable_mbr = math_utils.minimum_bounding_rectangle(cc_pts[:,:2])[0]\n",
    "        # cable_poly = shapely.geometry.Polygon(cable_mbr)\n",
    "        crosses_tramtracks = cable_poly.intersects(tramtracks_poly)\n",
    "        \n",
    "        # B: cable height\n",
    "        cc_height =  cc_pts[:, 2] - fast_z(cc_pts)\n",
    "\n",
    "        # Rule based classification\n",
    "        # 0: undefined\n",
    "        # 1: tram cable\n",
    "        # 2: light cable\n",
    "        if crosses_tramtracks:\n",
    "            if cc_height.min() < 7.5:\n",
    "                cable_labels[cc_mask] = 1\n",
    "                # option to distinguish suspension vs power cable using direction?\n",
    "            else:\n",
    "                cable_labels[cc_mask] = 2\n",
    "        else:\n",
    "            cable_labels[cc_mask] = 2\n",
    "\n",
    "    \n",
    "    if plot:\n",
    "        plot_clusters(points[mask], cable_labels, tilecode, plot_3d=True)\n",
    "\n",
    "    return cable_labels"
   ]
  },
  {
   "cell_type": "code",
   "execution_count": 190,
   "metadata": {},
   "outputs": [
    {
     "data": {
      "application/vnd.jupyter.widget-view+json": {
       "model_id": "9d93884ac9cc4d98b4f09c204a28a784",
       "version_major": 2,
       "version_minor": 0
      },
      "text/plain": [
       "Canvas(toolbar=Toolbar(toolitems=[('Home', 'Reset original view', 'home', 'home'), ('Back', 'Back to previous …"
      ]
     },
     "metadata": {},
     "output_type": "display_data"
    },
    {
     "data": {
      "text/plain": [
       "array([2., 2., 2., ..., 2., 2., 2.])"
      ]
     },
     "execution_count": 190,
     "metadata": {},
     "output_type": "execute_result"
    }
   ],
   "source": [
    "cable_classification(points, mask)"
   ]
  },
  {
   "cell_type": "code",
   "execution_count": null,
   "metadata": {},
   "outputs": [],
   "source": []
  }
 ],
 "metadata": {
  "interpreter": {
   "hash": "631806e10756e17fc0fd7ada305726dc7821d90278ba721d2afe07aa2cf1effd"
  },
  "kernelspec": {
   "display_name": "Python 3.9.9 ('.point_cloud': venv)",
   "language": "python",
   "name": "python3"
  },
  "language_info": {
   "codemirror_mode": {
    "name": "ipython",
    "version": 3
   },
   "file_extension": ".py",
   "mimetype": "text/x-python",
   "name": "python",
   "nbconvert_exporter": "python",
   "pygments_lexer": "ipython3",
   "version": "3.9.9"
  },
  "orig_nbformat": 4
 },
 "nbformat": 4,
 "nbformat_minor": 2
}
