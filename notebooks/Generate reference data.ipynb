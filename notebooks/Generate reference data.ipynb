{
 "cells": [
  {
   "cell_type": "markdown",
   "metadata": {},
   "source": [
    "# Scrape and parse reference data from public data sources\n",
    "This notebook scrapes data from the Amsterdam BGT API and 3D BAG API. The documentation of both data sources can be found at:\n",
    "- https://www.amsterdam.nl/stelselpedia/bgt-index/producten-bgt/prodspec-bgt-dgn-imgeo/\n",
    "- https://docs.3dbag.nl/en/"
   ]
  },
  {
   "cell_type": "code",
   "execution_count": null,
   "metadata": {},
   "outputs": [],
   "source": [
    "# Add project src to path.\n",
    "import set_path\n",
    "\n",
    "import src.scrapers.ams_bgt_scraper as ams_bgt_scraper\n",
    "import src.scrapers.ams_bag_scraper as ams_bag_scraper\n",
    "import src.utils.las_utils as las_utils\n",
    "import src.utils.csv_utils as csv_utils\n",
    "import src.utils.plot_utils as plot_utils"
   ]
  },
  {
   "cell_type": "markdown",
   "metadata": {},
   "source": [
    "## Specify the bounding box of the area we want to scrape"
   ]
  },
  {
   "cell_type": "code",
   "execution_count": null,
   "metadata": {},
   "outputs": [],
   "source": [
    "# Single file\n",
    "tilecode = '2352_9744'\n",
    "bbox = las_utils.get_bbox_from_tile_code(tilecode, padding=5)"
   ]
  },
  {
   "cell_type": "code",
   "execution_count": null,
   "metadata": {},
   "outputs": [],
   "source": [
    "# All files in a folder\n",
    "bbox = las_utils.get_bbox_from_las_folder('../demo_dataset/pointcloud/', padding=5)"
   ]
  },
  {
   "cell_type": "markdown",
   "metadata": {},
   "source": [
    "---\n",
    "## Scrape tram track information from BGT"
   ]
  },
  {
   "cell_type": "code",
   "execution_count": null,
   "metadata": {},
   "outputs": [],
   "source": [
    "# Output file for the BGT fuser.\n",
    "bgt_data_file = '../demo_dataset/bgt/bgt_tram_tracks.csv'\n",
    "csv_headers = ['bgt_type', 'linestring', 'x_min', 'y_max', 'x_max', 'y_min']\n",
    "\n",
    "# BGT layers\n",
    "bgt_layer = 'BGT_SPR_tram'"
   ]
  },
  {
   "cell_type": "code",
   "execution_count": null,
   "metadata": {},
   "outputs": [],
   "source": [
    "# Scrape data from the Amsterdam WFS, this will return a json response.\n",
    "json_response = ams_bgt_scraper.scrape_amsterdam_bgt(bgt_layer, bbox=bbox)\n",
    "\n",
    "# Parse the downloaded json response.\n",
    "parsed_content = ams_bgt_scraper.parse_linestrings(json_response, include_bbox=True)\n",
    "\n",
    "# Write the csv\n",
    "csv_utils.write_csv(bgt_data_file, parsed_content, csv_headers)"
   ]
  },
  {
   "cell_type": "markdown",
   "metadata": {},
   "source": [
    "---\n",
    "## Scrape building footprintdata from BAG"
   ]
  },
  {
   "cell_type": "code",
   "execution_count": null,
   "metadata": {},
   "outputs": [],
   "source": [
    "# Output file for the BGT fuser.\n",
    "bag_data_file = '../demo_dataset/bag/bag_buildings.csv'\n",
    "csv_headers = ['bgt_type', 'polygon', 'x_min', 'y_max', 'x_max', 'y_min']\n",
    "\n",
    "bag_layer = 'BAG3D_v2:lod12'"
   ]
  },
  {
   "cell_type": "code",
   "execution_count": null,
   "metadata": {},
   "outputs": [],
   "source": [
    "\n",
    "# Scrape data from the WFS, this will return a json response.\n",
    "json_response = ams_bag_scrapper.scrape_amsterdam_bag(bag_layer, bbox=bbox)\n",
    "\n",
    "# Parse the downloaded json response.\n",
    "parsed_content, _ = ams_bag_scrapper.parse_polygons(json_response)\n",
    "\n",
    "# Write the csv\n",
    "csv_utils.write_csv(bag_data_file, parsed_content, csv_headers)"
   ]
  },
  {
   "cell_type": "markdown",
   "metadata": {},
   "source": [
    "---\n",
    "## Visualise reference data\n",
    "\n",
    "To get a quick look at the result."
   ]
  },
  {
   "cell_type": "code",
   "execution_count": null,
   "metadata": {},
   "outputs": [],
   "source": [
    "plot_utils.plot_bag_bgt(tilecode, bag_data_file, bgt_data_file)"
   ]
  }
 ],
 "metadata": {
  "kernelspec": {
   "display_name": ".point_cloud",
   "language": "python",
   "name": ".point_cloud"
  },
  "language_info": {
   "codemirror_mode": {
    "name": "ipython",
    "version": 3
   },
   "file_extension": ".py",
   "mimetype": "text/x-python",
   "name": "python",
   "nbconvert_exporter": "python",
   "pygments_lexer": "ipython3",
   "version": "3.9.12"
  },
  "orig_nbformat": 4,
  "vscode": {
   "interpreter": {
    "hash": "631806e10756e17fc0fd7ada305726dc7821d90278ba721d2afe07aa2cf1effd"
   }
  }
 },
 "nbformat": 4,
 "nbformat_minor": 2
}
