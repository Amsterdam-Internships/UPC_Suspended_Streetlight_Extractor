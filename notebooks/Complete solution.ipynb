{
 "cells": [
  {
   "cell_type": "markdown",
   "id": "consecutive-interference",
   "metadata": {},
   "source": [
    "# Urban PointCloud Suspended Street Light Extractor\n",
    "\n",
    "This notebook shows a \"complete solution\" in which a single point cloud file is automatically labeled using the various tools available in this repository. For clarity we skip [preprocessing of AHN data](1.%20AHN%20preprocessing.ipynb) and assume all necassary data files are already available.\n",
    "\n",
    "We build a `Pipeline` with different `Processors`, each of which labels a particular type of object. The result is a labelled pointcloud, where labels are stored in the LAS extra_dim `label`.\n",
    "\n",
    "The `Pipeline` supports processing a single file, or batch-processing a folder."
   ]
  },
  {
   "cell_type": "code",
   "execution_count": null,
   "id": "responsible-network",
   "metadata": {},
   "outputs": [],
   "source": [
    "# Add project src to path.\n",
    "import set_path\n",
    "\n",
    "# Import modules.\n",
    "import logging\n",
    "\n",
    "import src.utils.ahn_utils as ahn_utils\n",
    "import src.utils.bgt_utils as bgt_utils\n",
    "import src.utils.plot_utils as plot_utils\n",
    "import src.utils.log_utils as log_utils\n",
    "from src.pipeline import Pipeline\n",
    "from src.labels import Labels\n",
    "\n",
    "from src.stages.building_filter import BuildingFilter\n",
    "from src.stages.vertical_segmentation_filter import LowHeightFilter, HighHeightFilter\n",
    "from src.stages.cable_extractor import CableExtractor\n",
    "from src.stages.tramcable_classifier import TramCableClassifier\n",
    "from src.stages.streetlight_detector import StreetlightDetector"
   ]
  },
  {
   "cell_type": "code",
   "execution_count": null,
   "id": "0ec7ecd1-c736-4777-9bf5-03abb54f7849",
   "metadata": {},
   "outputs": [],
   "source": [
    "# Set-up logging.\n",
    "logfile = 'pipeline.log'\n",
    "log_utils.reset_logger()\n",
    "\n",
    "# INFO messages will be printed to console.\n",
    "log_utils.add_console_logger(logging.DEBUG)\n",
    "# All messages will be printed to a file. Use `clear_log` flag to clear the log file, if desired.\n",
    "log_utils.add_file_logger(logfile, clear_log=True)"
   ]
  },
  {
   "cell_type": "code",
   "execution_count": null,
   "id": "6cf2883a-1fd1-4c20-849f-5f7103c802a8",
   "metadata": {},
   "outputs": [],
   "source": [
    "# Set-up data files.\n",
    "\n",
    "folder = '../demo_dataset'\n",
    "\n",
    "# AHN data folder.\n",
    "ahn_data_folder = folder + '/ahn/'\n",
    "# File with BGT building polygons.\n",
    "bag_building_file = folder + '/bag/bag_buildings.csv'\n",
    "# File with BGT tramtrack linestrings.\n",
    "bgt_tramtrack_file = folder + '/bgt/bgt_tram_tracks.csv'\n",
    "\n",
    "# Initialize AHN reader for elevation data.\n",
    "ahn_reader = ahn_utils.NPZReader(ahn_data_folder)\n",
    "\n",
    "# Initialize BGT readers for BGT polygon and point data.\n",
    "bag_buidling_reader = bgt_utils.BGTPolyReader(bgt_file=bag_building_file)\n",
    "bgt_tramtrack_reader = bgt_utils.BGTLineReader(bgt_file=bgt_tramtrack_file)"
   ]
  },
  {
   "cell_type": "markdown",
   "id": "turned-softball",
   "metadata": {},
   "source": [
    "---\n",
    "## Data Fusion\n",
    "\n",
    "### Search Space Reduction\n",
    "First, we use data fusion to automatically label ground and building points and reduce the dataset."
   ]
  },
  {
   "cell_type": "code",
   "execution_count": null,
   "id": "operational-maple",
   "metadata": {},
   "outputs": [],
   "source": [
    "# Ground fuser\n",
    "ground_params = {'min_point_height':4.5}\n",
    "ground_fuser = LowHeightFilter(Labels.GROUND, ahn_reader=ahn_reader, **ground_params)\n",
    "\n",
    "# Sky fuser\n",
    "sky_params = {'max_point_height':12.5}\n",
    "sky_fuser = HighHeightFilter(Labels.SKY, ahn_reader=ahn_reader, **sky_params)\n",
    "\n",
    "# Building fuser\n",
    "bld_params = {'building_offset':1.25}\n",
    "building_fuser = BuildingFilter(Labels.BUILDING, ahn_reader=ahn_reader, bgt_reader=bag_buidling_reader, **bld_params)"
   ]
  },
  {
   "cell_type": "markdown",
   "id": "embedded-anthropology",
   "metadata": {},
   "source": [
    "### Cable Segments\n",
    "Cable points meeting certain conditions are labelled as such."
   ]
  },
  {
   "cell_type": "code",
   "execution_count": null,
   "id": "fancy-legislation",
   "metadata": {},
   "outputs": [],
   "source": [
    "# Cable Extractor\n",
    "cable_params = {}\n",
    "cable_extractor = CableExtractor(Labels.CABLE, **cable_params)"
   ]
  },
  {
   "cell_type": "markdown",
   "id": "secret-packaging",
   "metadata": {},
   "source": [
    "### Cable Classification\n",
    "\n",
    "Then we label cables beloning to the tram cable network by the BGT tram data."
   ]
  },
  {
   "cell_type": "code",
   "execution_count": null,
   "id": "intense-summit",
   "metadata": {},
   "outputs": [],
   "source": [
    "# Tram cable Extractor\n",
    "tram_params = {'min_height':7.5}\n",
    "tram_cable_extractor = TramCableClassifier(Labels.TRAM_CABLE, ahn_reader=ahn_reader, bgt_reader=bgt_tramtrack_reader, **tram_params)"
   ]
  },
  {
   "cell_type": "markdown",
   "id": "7bac6c70-c67c-440f-9c93-7790b172db05",
   "metadata": {},
   "source": [
    "### Armatuur Extractor\n",
    "\n",
    "Next, we look for 'armaturen' suspended street lights."
   ]
  },
  {
   "cell_type": "code",
   "execution_count": null,
   "id": "f7f0a685-2525-40ab-bd8f-eff7f94a97fc",
   "metadata": {},
   "outputs": [],
   "source": [
    "# Armatuur Extractor\n",
    "armatuur_params = {\n",
    "    'width': (.2, 1),\n",
    "    'height': (.15, 1),\n",
    "    #'z_offset':(0,.55),\n",
    "    'axis_offset': 0.2\n",
    "}\n",
    "armatuur_extractor = StreetlightDetector(Labels.ARMATUUR, armatuur_params=armatuur_params, min_cable_bending=2)"
   ]
  },
  {
   "cell_type": "markdown",
   "id": "3c2427a7-6113-44fe-9ca9-fd74ebb08659",
   "metadata": {},
   "source": [
    "---\n",
    "## Set-up the pipeline"
   ]
  },
  {
   "cell_type": "code",
   "execution_count": null,
   "id": "820b612b-375e-48f6-a8bb-9261fa556fc1",
   "metadata": {},
   "outputs": [],
   "source": [
    "# Set-up pipeline.\n",
    "process_sequence = (building_fuser, ground_fuser, sky_fuser, cable_extractor, tram_cable_extractor, armatuur_extractor)\n",
    "pipeline = Pipeline(processors=process_sequence, ahn_reader=ahn_reader, caching=True)"
   ]
  },
  {
   "cell_type": "markdown",
   "id": "collaborative-durham",
   "metadata": {},
   "source": [
    "---\n",
    "## Process a single file"
   ]
  },
  {
   "cell_type": "code",
   "execution_count": null,
   "id": "2ffe2496",
   "metadata": {},
   "outputs": [],
   "source": [
    "log_utils.reset_logger()\n",
    "log_utils.add_console_logger(logging.DEBUG)"
   ]
  },
  {
   "cell_type": "code",
   "execution_count": null,
   "id": "14fcbc07-1514-4037-8f1f-2ea4beaefc1c",
   "metadata": {},
   "outputs": [],
   "source": [
    "# Select the file to process.\n",
    "tile_code = '2352_9744'\n",
    "in_file = folder + '/pointcloud/labelled_' + tile_code + '.laz'\n",
    "out_file = folder + '/pointcloud/processed_' + tile_code + '.laz'"
   ]
  },
  {
   "cell_type": "code",
   "execution_count": null,
   "id": "66d7c7a5",
   "metadata": {},
   "outputs": [],
   "source": [
    "pipeline.process_file(in_file, out_file=out_file, in_labels=False)"
   ]
  },
  {
   "cell_type": "markdown",
   "id": "343b1355-d6a7-406f-ab95-e75bee962229",
   "metadata": {},
   "source": [
    "---\n",
    "## Process a folder\n",
    "\n",
    "It is also possible to process all LAS files in a folder in one batch."
   ]
  },
  {
   "cell_type": "code",
   "execution_count": null,
   "id": "b8c1b35f-f83b-4ce8-9733-217ab9b554a0",
   "metadata": {},
   "outputs": [],
   "source": [
    "# Re-set logging to suppress console output.\n",
    "log_utils.reset_logger()\n",
    "# Only ERROR messages will be printed to console.\n",
    "log_utils.add_console_logger(level=logging.ERROR)\n",
    "# All messages will be printed to a file. Use `clear_log` flag to clear the log file, if desired.\n",
    "log_utils.add_file_logger(logfile, clear_log=True)"
   ]
  },
  {
   "cell_type": "code",
   "execution_count": null,
   "id": "4781e197",
   "metadata": {},
   "outputs": [],
   "source": [
    "pipeline.process_folder(in_folder=folder+'/pointcloud/', in_prefix='labelled_', out_prefix='processed_', in_labels=False)"
   ]
  },
  {
   "cell_type": "markdown",
   "id": "660ca8b6-26a2-4ee3-87b1-30e3bcda1104",
   "metadata": {},
   "source": [
    "---\n",
    "## View the result\n",
    "\n",
    "To get a quick look at the result, we can plot a slice of the labelled point cloud at a specified height."
   ]
  },
  {
   "cell_type": "code",
   "execution_count": null,
   "id": "44123d20-b21e-422c-915a-05baa4da56c4",
   "metadata": {},
   "outputs": [],
   "source": [
    "%matplotlib widget\n",
    "plot_utils.plot_bgt_bag_and_cloudslice(tile_code, out_file, ahn_reader, building_file=bag_building_file,\n",
    "                                   tram_file=bgt_tramtrack_file, min_plane_height=4.5, max_plane_height=12, hide_noise=True)"
   ]
  },
  {
   "cell_type": "code",
   "execution_count": null,
   "id": "51fb28c6",
   "metadata": {},
   "outputs": [],
   "source": []
  }
 ],
 "metadata": {
  "interpreter": {
   "hash": "7366f18c254adf4309e22c54c7a399c75fae7c7cb920374cdfae4ada38c45d67"
  },
  "kernelspec": {
   "display_name": ".point_cloud",
   "language": "python",
   "name": ".point_cloud"
  },
  "language_info": {
   "codemirror_mode": {
    "name": "ipython",
    "version": 3
   },
   "file_extension": ".py",
   "mimetype": "text/x-python",
   "name": "python",
   "nbconvert_exporter": "python",
   "pygments_lexer": "ipython3",
   "version": "3.9.12"
  }
 },
 "nbformat": 4,
 "nbformat_minor": 5
}
