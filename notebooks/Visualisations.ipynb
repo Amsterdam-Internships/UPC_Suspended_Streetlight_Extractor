{
 "cells": [
  {
   "cell_type": "markdown",
   "id": "d0e8f803-3c16-4f40-b6a4-4a5257bb33da",
   "metadata": {},
   "source": [
    "# Visualisation tools\n",
    "\n",
    "A demonstration of various visualisation tools to display AHN elevation surfaces, BGT data, and LAS point cloud labels."
   ]
  },
  {
   "cell_type": "code",
   "execution_count": null,
   "id": "d1c12d9f-131f-4e58-bb7e-69d8d2dff65b",
   "metadata": {},
   "outputs": [],
   "source": [
    "# Add project src to path.\n",
    "import set_path\n",
    "\n",
    "import src.utils.ahn_utils as ahn_utils\n",
    "import src.utils.las_utils as las_utils\n",
    "import src.utils.plot_utils as plot_utils\n",
    "\n",
    "#%matplotlib widget\n",
    "import matplotlib.pyplot as plt"
   ]
  },
  {
   "cell_type": "code",
   "execution_count": null,
   "id": "775c29b9-c767-45ca-8362-bd36a5e09b31",
   "metadata": {},
   "outputs": [],
   "source": [
    "# Load data.\n",
    "tilecode = '2352_9744'\n",
    "\n",
    "# Labelled LAS file (see Notebook 0).\n",
    "las_file = '../demo_dataset/pointcloud/processed_' + tilecode + '.laz'\n",
    "\n",
    "# AHN data folder.\n",
    "ahn_data_folder = '../demo_dataset/ahn/'\n",
    "# File with BAG building polygons.\n",
    "bag_building_file = '../demo_dataset/bag/bag_buildings.csv'\n",
    "# File with BGT data.\n",
    "bgt_data_file = '../demo_dataset/bgt/bgt_tram_tracks.csv'\n",
    "\n",
    "# AHNReader for elevation data.\n",
    "ahn_reader = ahn_utils.NPZReader(ahn_data_folder)"
   ]
  },
  {
   "cell_type": "markdown",
   "id": "f58b8cee-6552-4019-a92e-49271bce5b87",
   "metadata": {},
   "source": [
    "### Plot AHN ground and building surfaces together"
   ]
  },
  {
   "cell_type": "code",
   "execution_count": null,
   "id": "d512cb64-675d-4759-84e5-6a3a564a6e7f",
   "metadata": {},
   "outputs": [],
   "source": [
    "# Either side-by-side..\n",
    "plot_utils.plot_ahn_sidebyside(tilecode, ahn_reader)"
   ]
  },
  {
   "cell_type": "code",
   "execution_count": null,
   "id": "46f6cf49-ae03-43b7-8541-e06e947849b9",
   "metadata": {},
   "outputs": [],
   "source": [
    "# ..or together in one image.\n",
    "plot_utils.plot_ahn_merged(tilecode, ahn_reader)"
   ]
  },
  {
   "cell_type": "code",
   "execution_count": null,
   "id": "d66b9ab9-bf7d-4a85-915f-58588ce01d50",
   "metadata": {},
   "outputs": [],
   "source": [
    "plt.savefig(f'ahn_ground+building_{tilecode}.png', dpi=150)"
   ]
  },
  {
   "cell_type": "markdown",
   "id": "44d5e995-0205-4d9c-bcd3-a30f7e1a9f45",
   "metadata": {},
   "source": [
    "### Plot BGT data and LAS pointcloud labels side by side\n",
    "\n",
    "This also demonstrates how customized plots can be created by passing the target axes handle to the plotting functions."
   ]
  },
  {
   "cell_type": "code",
   "execution_count": null,
   "id": "3f7db407-a89b-4519-b6ae-cb3a42413164",
   "metadata": {},
   "outputs": [],
   "source": [
    "fig, (ax1, ax2) = plt.subplots(1, 2, figsize=(10, 6))\n",
    "plot_utils.plot_bag_bgt(tilecode, bag_building_file, bgt_data_file, title='BGT data', ax=ax1, legend_below=True)\n",
    "plot_utils.plot_cloud_slice(las_file, ahn_reader, plane_height=.75, hide_noise=True, title='LAS labels', ax=ax2, legend_below=True)\n",
    "ax2.set_yticklabels([])\n",
    "ax2.yaxis.label.set_visible(False)\n",
    "fig.suptitle(f'Tile {tilecode}', fontsize=14)\n",
    "fig.subplots_adjust(top=0.95)\n",
    "plt.show()"
   ]
  },
  {
   "cell_type": "code",
   "execution_count": null,
   "id": "aa1994a0-c516-4f69-83fa-80b001857f54",
   "metadata": {},
   "outputs": [],
   "source": [
    "plt.savefig(f'bgt+labels_{tilecode}.png', dpi=150)"
   ]
  },
  {
   "cell_type": "markdown",
   "id": "9e16ac37-1ff9-4529-af31-a5c22878eba9",
   "metadata": {},
   "source": [
    "### Visualise the locations of all point cloud tiles in a folder\n",
    "\n",
    "Tiles are shown as squares overlayed on an OpenStreetMap of the area. Hoovering over a tile displays its tilecode."
   ]
  },
  {
   "cell_type": "code",
   "execution_count": null,
   "id": "c71217bd-9914-4fe8-b23b-0414c8af25a5",
   "metadata": {},
   "outputs": [],
   "source": [
    "tile_folder = '../demo_dataset/pointcloud/'\n",
    "tiles = las_utils.get_tilecodes_from_folder(tile_folder)\n",
    "tiles_map = plot_utils.plot_tiles_map(tiles, width=800, height=600, zoom_start=16)\n",
    "tiles_map"
   ]
  },
  {
   "cell_type": "code",
   "execution_count": null,
   "id": "e66ac043-c786-4c08-85ca-d9ff1c1592b2",
   "metadata": {},
   "outputs": [],
   "source": [
    "plot_utils.save_tiles_map(tiles_map, 'new_dataset_map.html')"
   ]
  },
  {
   "cell_type": "markdown",
   "id": "072be9c2-f5a4-46c5-b6a6-41c837457290",
   "metadata": {},
   "source": [
    "### Close all figures"
   ]
  },
  {
   "cell_type": "code",
   "execution_count": null,
   "id": "397a34cc-f77b-4bf2-90d2-44e50eb46a67",
   "metadata": {},
   "outputs": [],
   "source": [
    "plt.close('all')"
   ]
  }
 ],
 "metadata": {
  "kernelspec": {
   "display_name": "Python 3.9.9 ('.point_cloud': venv)",
   "language": "python",
   "name": "python3"
  },
  "language_info": {
   "codemirror_mode": {
    "name": "ipython",
    "version": 3
   },
   "file_extension": ".py",
   "mimetype": "text/x-python",
   "name": "python",
   "nbconvert_exporter": "python",
   "pygments_lexer": "ipython3",
   "version": "3.9.12"
  },
  "vscode": {
   "interpreter": {
    "hash": "631806e10756e17fc0fd7ada305726dc7821d90278ba721d2afe07aa2cf1effd"
   }
  }
 },
 "nbformat": 4,
 "nbformat_minor": 5
}
